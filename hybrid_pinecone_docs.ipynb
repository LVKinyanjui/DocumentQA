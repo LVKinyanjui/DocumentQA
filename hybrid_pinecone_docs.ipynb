{
 "cells": [
  {
   "cell_type": "code",
   "execution_count": 34,
   "metadata": {},
   "outputs": [],
   "source": [
    "import os, uuid\n",
    "from tqdm import tqdm\n",
    "from pinecone import Pinecone\n",
    "from pinecone_text.sparse import BM25Encoder\n",
    "from langchain.document_loaders import PyMuPDFLoader\n",
    "from sentence_transformers import SentenceTransformer"
   ]
  },
  {
   "cell_type": "markdown",
   "metadata": {},
   "source": [
    "#### Loading Corpus"
   ]
  },
  {
   "cell_type": "code",
   "execution_count": 8,
   "metadata": {},
   "outputs": [],
   "source": [
    "loader = PyMuPDFLoader(\"data/E1. ExngTextOnly.pdf\")\n",
    "documents = loader.load()\n",
    "doc_texts = [document.page_content for document in documents]"
   ]
  },
  {
   "cell_type": "markdown",
   "metadata": {},
   "source": [
    "### Sparse Vector Encoding\n",
    "We rely on `pinecone-text` client to create sparse vector representations as described in [this](https://docs.pinecone.io/docs/encode-sparse-vectors) section of the documentation.\n",
    "\n",
    "We use the `BM-25 Encoder`, providing our text as a corpus."
   ]
  },
  {
   "cell_type": "markdown",
   "metadata": {},
   "source": [
    "#### Initialization\n",
    "\n",
    "If you want to use the default parameters for BM25Encoder, you can call the default method. The default parameters were fitted on the `MS MARCO passage ranking dataset`."
   ]
  },
  {
   "cell_type": "code",
   "execution_count": 6,
   "metadata": {},
   "outputs": [],
   "source": [
    "# bm25 = BM25Encoder.default()"
   ]
  },
  {
   "cell_type": "markdown",
   "metadata": {},
   "source": [
    "Otherwise fit on your own corpus. BM-25 calculates word frequencies in the corpus."
   ]
  },
  {
   "cell_type": "code",
   "execution_count": 9,
   "metadata": {},
   "outputs": [
    {
     "name": "stderr",
     "output_type": "stream",
     "text": [
      "100%|██████████| 2/2 [00:00<00:00, 68.97it/s]\n"
     ]
    },
    {
     "data": {
      "text/plain": [
       "<pinecone_text.sparse.bm25_encoder.BM25Encoder at 0x2128aa92890>"
      ]
     },
     "execution_count": 9,
     "metadata": {},
     "output_type": "execute_result"
    }
   ],
   "source": [
    "bm25 = BM25Encoder()\n",
    "bm25.fit(corpus=doc_texts)"
   ]
  },
  {
   "cell_type": "markdown",
   "metadata": {},
   "source": [
    "### Dense Vector Encoding\n",
    "Here we may choose to use either an external API embedding service such as `OpenAI` or `PALM`. Or we could use hugging face models using the `SentenceTransformer` class."
   ]
  },
  {
   "cell_type": "code",
   "execution_count": 20,
   "metadata": {},
   "outputs": [],
   "source": [
    "model = SentenceTransformer(\n",
    "    'multi-qa-MiniLM-L6-cos-v1',\n",
    "    device='cpu'\n",
    ")"
   ]
  },
  {
   "cell_type": "markdown",
   "metadata": {},
   "source": [
    "### Upsert Sparse Dense Vectors\n",
    "After we have gotten our sparse and dense embeddings, now it is time to upsert them to pinecone. We follow [this](https://docs.pinecone.io/docs/encode-sparse-vectors) section of the documentation."
   ]
  },
  {
   "cell_type": "code",
   "execution_count": 17,
   "metadata": {},
   "outputs": [],
   "source": [
    "pc = Pinecone(\n",
    "    api_key=os.getenv(\"PINECONE_KINYASH\"),\n",
    "    environment='gcp-starter'\n",
    "    )\n",
    "\n",
    "index_name = 'hybrid-test'\n",
    "index = pc.Index(index_name) \n"
   ]
  },
  {
   "cell_type": "code",
   "execution_count": 35,
   "metadata": {},
   "outputs": [
    {
     "name": "stderr",
     "output_type": "stream",
     "text": [
      "100%|██████████| 2/2 [00:01<00:00,  1.30it/s]\n"
     ]
    }
   ],
   "source": [
    "# INCOMPLETE\n",
    "for document in tqdm(documents):\n",
    "    texts = document.page_content\n",
    "\n",
    "    dense_vector = model.encode(texts).tolist()\n",
    "    sparse_vector = bm25.encode_documents(texts)\n",
    "    \n",
    "    records = [{\n",
    "        'id': str(uuid.uuid4().int),\n",
    "        'values': dense_vector,\n",
    "        'sparse_values': sparse_vector,\n",
    "        'metadata': {\n",
    "            'text': texts\n",
    "        }\n",
    "    }]\n",
    "\n",
    "    index.upsert(records)"
   ]
  },
  {
   "cell_type": "markdown",
   "metadata": {},
   "source": [
    "### Query Sparse Dense Vectors\n",
    "Once our documents have been succesfully upserted to the vector database, we can then query. We borrow from [this](https://docs.pinecone.io/docs/query-sparse-dense-vectors) part of the documentation."
   ]
  },
  {
   "cell_type": "markdown",
   "metadata": {},
   "source": [
    "#### Query"
   ]
  },
  {
   "cell_type": "code",
   "execution_count": 37,
   "metadata": {},
   "outputs": [],
   "source": [
    "question = \"\"\"\n",
    "Does Mr Willy Wonka invent Wonka\u0002Vite?\n",
    "\"\"\""
   ]
  },
  {
   "cell_type": "markdown",
   "metadata": {},
   "source": [
    "#### Encoding Query\n",
    "In our application, we will encode the actual question/text query into an sparse vector encoding. After all, the very point of this exercise is to query a database."
   ]
  },
  {
   "cell_type": "code",
   "execution_count": 38,
   "metadata": {},
   "outputs": [],
   "source": [
    "sparse_vector = bm25.encode_documents(question)"
   ]
  },
  {
   "cell_type": "code",
   "execution_count": 39,
   "metadata": {},
   "outputs": [],
   "source": [
    "dense_vector = model.encode(question).tolist()"
   ]
  },
  {
   "cell_type": "markdown",
   "metadata": {},
   "source": [
    "#### Querying Pinecone"
   ]
  },
  {
   "cell_type": "code",
   "execution_count": 40,
   "metadata": {},
   "outputs": [],
   "source": [
    "# Check for presence of records before querying\n",
    "if index.describe_index_stats()['total_vector_count'] == 0:\n",
    "    print(\"No Records Found. Query may not retrieve any matches.\")"
   ]
  },
  {
   "cell_type": "code",
   "execution_count": 45,
   "metadata": {},
   "outputs": [],
   "source": [
    "query_response = index.query(\n",
    "    top_k=2,\n",
    "    vector=dense_vector,\n",
    "    sparse_vector=sparse_vector,\n",
    "    include_metadata=True\n",
    ")"
   ]
  },
  {
   "cell_type": "code",
   "execution_count": 46,
   "metadata": {},
   "outputs": [
    {
     "data": {
      "text/plain": [
       "{'matches': [{'id': '287940271558922032561645562711650873195',\n",
       "              'metadata': {'text': 'Who are the oldest people you know? What '\n",
       "                                   'are the\\n'\n",
       "                                   'oldest things you have (i) in your house, '\n",
       "                                   '(ii) in your city,\\n'\n",
       "                                   'town or village? How old are they?\\n'\n",
       "                                   'Have you ever wished that you were older? '\n",
       "                                   'Have\\n'\n",
       "                                   'you wished that you could grow up in a '\n",
       "                                   'hurry?\\n'\n",
       "                                   'Mr Willy Wonka begins by inventing Wonka-\\n'\n",
       "                                   'Vite, which makes people younger. But '\n",
       "                                   'Wonka-\\n'\n",
       "                                   'Vite is too strong. So some people '\n",
       "                                   'disappear,\\n'\n",
       "                                   'because their age becomes Minus! One '\n",
       "                                   'person\\n'\n",
       "                                   'actually becomes minus eighty-seven, '\n",
       "                                   'which\\n'\n",
       "                                   'means he’s got to wait eighty-seven years\\n'\n",
       "                                   'before he can come back.\\n'\n",
       "                                   'Mr Willy Wonka must invent a new thing...\\n'\n",
       "                                   'Mr Wonka said, “So once again I rolled\\n'\n",
       "                                   'up my sleeves and set to work. Once\\n'\n",
       "                                   'again I squeezed my brain, searching for '\n",
       "                                   'the new\\n'\n",
       "                                   'recipe... I had to create age... to make '\n",
       "                                   'people old...\\n'\n",
       "                                   'old, older, oldest... ‘Ha-ha!’ I cried, '\n",
       "                                   'for now the\\n'\n",
       "                                   'ideas were beginning to come. ‘What is the '\n",
       "                                   'oldest\\n'\n",
       "                                   'living thing in the world? What lives '\n",
       "                                   'longer than\\n'\n",
       "                                   'anything else?’ ”\\n'\n",
       "                                   '“A tree,” Charlie said.\\n'\n",
       "                                   '“Right you are, Charlie! But what kind of '\n",
       "                                   'a\\n'\n",
       "                                   'tree? Not the Douglas fir. Not the oak. '\n",
       "                                   'Not the\\n'\n",
       "                                   'cedar. No, no, my boy. It is a tree called '\n",
       "                                   'the\\n'\n",
       "                                   'Bristlecone pine that grows upon the '\n",
       "                                   'slopes of\\n'\n",
       "                                   'Wheeler Peak in Nevada, U.S.A. You can '\n",
       "                                   'find\\n'\n",
       "                                   'Bristlecone Pines on Wheeler Peak today '\n",
       "                                   'that\\n'\n",
       "                                   'are over 4000 years old! This is fact, '\n",
       "                                   'Charlie. Ask\\n'\n",
       "                                   'any dendrochronologist you like (and look '\n",
       "                                   'that\\n'\n",
       "                                   'word up in the dictionary when you get '\n",
       "                                   'home,\\n'\n",
       "                                   'will you please?). So that started me off. '\n",
       "                                   'I\\n'\n",
       "                                   'jumped into the Great Glass Elevator and\\n'\n",
       "                                   'rushed all over the world collecting '\n",
       "                                   'special items\\n'\n",
       "                                   'from the oldest living things...\\n'\n",
       "                                   ' A PINT OF SAP FROM A 4000-YEAR-OLD\\n'\n",
       "                                   'BRISTLECONE PINE\\n'\n",
       "                                   ' THE TOE-NAIL CLIPPINGS FROM A '\n",
       "                                   '168-YEAR-OLD\\n'\n",
       "                                   'RUSSIAN FARMER CALLED PETROVITCH\\n'\n",
       "                                   'GREGOROVITCH\\n'\n",
       "                                   ' AN EGG LAID BY A 200-YEAR-OLD TORTOISE\\n'\n",
       "                                   'BELONGING TO THE KING OF TONGA\\n'\n",
       "                                   ' THE TAIL OF A 51-YEAR-OLD HORSE IN '\n",
       "                                   'ARABIA\\n'\n",
       "                                   ' THE WHISKERS OF A 36-YEAR-OLD CAT CALLED\\n'\n",
       "                                   'CRUMPETS\\n'\n",
       "                                   ' AN OLD FLEA WHICH HAD LIVED ON CRUMPETS\\n'\n",
       "                                   'FOR 36 YEARS\\n'\n",
       "                                   ' THE TAIL OF A 207-YEAR-OLD GIANT RAT '\n",
       "                                   'FROM\\n'\n",
       "                                   'TIBET\\n'\n",
       "                                   ' THE BLACK TEETH OF A 97-YEAR-OLD\\n'\n",
       "                                   'GRIMALKIN LIVING IN A CAVE ON MOUNT\\n'\n",
       "                                   'POPOCATEPETL\\n'\n",
       "                                   ' THE KNUCKLEBONES OF A 700-YEAR-OLD\\n'},\n",
       "              'score': 2.20844126,\n",
       "              'values': []},\n",
       "             {'id': '333784030909467776664896225172954429778',\n",
       "              'metadata': {'text': 'CATTALOO FROM PERU...”\\n'\n",
       "                                   '“All over the world, Charlie,” Mr Wonka '\n",
       "                                   'went on\\n'\n",
       "                                   '“I tracked down very old and ancient '\n",
       "                                   'animals and\\n'\n",
       "                                   'took an important little bit of something '\n",
       "                                   'from each\\n'\n",
       "                                   'one of them — a hair or an eyebrow or '\n",
       "                                   'sometimes\\n'\n",
       "                                   'it was no more than an ounce or two of the '\n",
       "                                   'jam\\n'\n",
       "                                   'scraped from between its toes while it '\n",
       "                                   'was\\n'\n",
       "                                   'sleeping. I tracked down THE WHISTLE-PIG, '\n",
       "                                   'THE\\n'\n",
       "                                   'BOBOLINK, THE SKROCK, THE POLLYFROG, THE\\n'\n",
       "                                   'GIANT CURLICUE, THE STINGING SLUG AND THE\\n'\n",
       "                                   'VENOMOUS SQUERKLE who can spit poison '\n",
       "                                   'right\\n'\n",
       "                                   'into your eye from fifty yards away. But '\n",
       "                                   'there’s\\n'\n",
       "                                   'no time to tell you about them all now, '\n",
       "                                   'Charlie.\\n'\n",
       "                                   'Let me just say quickly that in the end, '\n",
       "                                   'after lots\\n'\n",
       "                                   'of boiling and bubbling and mixing and '\n",
       "                                   'testing in\\n'\n",
       "                                   'my Inventing Room, I produced one tiny '\n",
       "                                   'cupful of\\n'\n",
       "                                   'oily black liquid and gave four drops of '\n",
       "                                   'it to a\\n'\n",
       "                                   'brave twenty-year-old Oompa-Loompa '\n",
       "                                   'volunteer\\n'\n",
       "                                   'to see what happened.”\\n'\n",
       "                                   '“What did happen?” Charlie asked.\\n'\n",
       "                                   '“It was fantastic!” cried Mr Wonka. “The\\n'\n",
       "                                   'moment he swallowed it, he began wrinkling '\n",
       "                                   'and\\n'\n",
       "                                   'shrivelling up all over and his hair '\n",
       "                                   'started\\n'\n",
       "                                   'dropping off and his teeth started falling '\n",
       "                                   'out and,\\n'\n",
       "                                   'before I knew it, he had suddenly become '\n",
       "                                   'an old\\n'\n",
       "                                   'fellow of seventy-five! And thus, my dear '\n",
       "                                   'Charlie,\\n'\n",
       "                                   'was Vita-Wonk invented!”\\n'\n",
       "                                   'ROALD DAHL\\n'\n",
       "                                   '[from Charlie and the Great\\n'\n",
       "                                   'Glass Elevator]\\n'},\n",
       "              'score': 2.01832461,\n",
       "              'values': []}],\n",
       " 'namespace': '',\n",
       " 'usage': {'read_units': 6}}"
      ]
     },
     "execution_count": 46,
     "metadata": {},
     "output_type": "execute_result"
    }
   ],
   "source": [
    "query_response"
   ]
  },
  {
   "cell_type": "code",
   "execution_count": null,
   "metadata": {},
   "outputs": [],
   "source": []
  }
 ],
 "metadata": {
  "kernelspec": {
   "display_name": "documentqa",
   "language": "python",
   "name": "documentqa"
  },
  "language_info": {
   "codemirror_mode": {
    "name": "ipython",
    "version": 3
   },
   "file_extension": ".py",
   "mimetype": "text/x-python",
   "name": "python",
   "nbconvert_exporter": "python",
   "pygments_lexer": "ipython3",
   "version": "3.10.4"
  }
 },
 "nbformat": 4,
 "nbformat_minor": 2
}
