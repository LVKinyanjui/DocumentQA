{
 "cells": [
  {
   "cell_type": "code",
   "execution_count": 3,
   "metadata": {},
   "outputs": [],
   "source": [
    "import gradio as gr\n",
    "from auxiliaries_beta import embed_upsert, retrieve, summarize"
   ]
  },
  {
   "cell_type": "code",
   "execution_count": 5,
   "metadata": {},
   "outputs": [],
   "source": [
    "# Adding a welcome messahge\n",
    "chatbot = gr.Chatbot(\n",
    "    value=[[None, \"Hi. I am here to help you search through your documents through question and answer\"]]\n",
    "    )\n",
    "\n",
    "with gr.Blocks() as iface:\n",
    "    namespace = gr.Textbox(\n",
    "    label=\"Namespace (Pinecone)\", \n",
    "    placeholder=\"(Optional) Display or Enter Pinecone Document Namespace\",\n",
    "    visible=False\n",
    "    )\n",
    "\n",
    "\n",
    "    gr.ChatInterface(\n",
    "        fn=retrieve, \n",
    "        additional_inputs=[namespace],\n",
    "        chatbot=chatbot\n",
    "    )\n",
    "\n",
    "    with gr.Accordion(\"Document Summary\"):\n",
    "        summary = gr.Markdown()\n",
    "        button = gr.Button(\"Summarize\")\n",
    "\n",
    "    file = gr.File()\n",
    "    feedback = gr.Markdown()\n",
    "\n",
    "    file.change(fn=embed_upsert, inputs=file, outputs=[feedback, namespace])\n",
    "    button.click(fn=summarize, inputs=file, outputs=summary)\n",
    "    # file.change(fn=summarize, inputs=file, outputs=summary)"
   ]
  },
  {
   "cell_type": "code",
   "execution_count": null,
   "metadata": {},
   "outputs": [
    {
     "name": "stdout",
     "output_type": "stream",
     "text": [
      "Running on local URL:  http://127.0.0.1:7860\n",
      "\n",
      "To create a public link, set `share=True` in `launch()`.\n"
     ]
    },
    {
     "data": {
      "text/html": [
       "<div><iframe src=\"http://127.0.0.1:7860/\" width=\"100%\" height=\"500\" allow=\"autoplay; camera; microphone; clipboard-read; clipboard-write;\" frameborder=\"0\" allowfullscreen></iframe></div>"
      ],
      "text/plain": [
       "<IPython.core.display.HTML object>"
      ]
     },
     "metadata": {},
     "output_type": "display_data"
    },
    {
     "data": {
      "text/plain": []
     },
     "execution_count": 6,
     "metadata": {},
     "output_type": "execute_result"
    },
    {
     "name": "stderr",
     "output_type": "stream",
     "text": [
      "100%|██████████| 456/456 [00:00<00:00, 720.38it/s]\n"
     ]
    },
    {
     "name": "stdout",
     "output_type": "stream",
     "text": [
      "Execution time in seconds: 2.6584932804107666\n"
     ]
    },
    {
     "name": "stderr",
     "output_type": "stream",
     "text": [
      "Traceback (most recent call last):\n",
      "  File \"f:\\Jupyter\\Upwork\\DocumentQA\\DocumentQA\\venv\\lib\\site-packages\\gradio\\queueing.py\", line 495, in call_prediction\n",
      "    output = await route_utils.call_process_api(\n",
      "  File \"f:\\Jupyter\\Upwork\\DocumentQA\\DocumentQA\\venv\\lib\\site-packages\\gradio\\route_utils.py\", line 232, in call_process_api\n",
      "    output = await app.get_blocks().process_api(\n",
      "  File \"f:\\Jupyter\\Upwork\\DocumentQA\\DocumentQA\\venv\\lib\\site-packages\\gradio\\blocks.py\", line 1561, in process_api\n",
      "    result = await self.call_function(\n",
      "  File \"f:\\Jupyter\\Upwork\\DocumentQA\\DocumentQA\\venv\\lib\\site-packages\\gradio\\blocks.py\", line 1177, in call_function\n",
      "    prediction = await fn(*processed_input)\n",
      "  File \"f:\\Jupyter\\Upwork\\DocumentQA\\DocumentQA\\venv\\lib\\site-packages\\gradio\\utils.py\", line 653, in async_wrapper\n",
      "    response = await f(*args, **kwargs)\n",
      "  File \"f:\\Jupyter\\Upwork\\DocumentQA\\DocumentQA\\venv\\lib\\site-packages\\gradio\\chat_interface.py\", line 454, in _submit_fn\n",
      "    response = await anyio.to_thread.run_sync(\n",
      "  File \"f:\\Jupyter\\Upwork\\DocumentQA\\DocumentQA\\venv\\lib\\site-packages\\anyio\\to_thread.py\", line 33, in run_sync\n",
      "    return await get_asynclib().run_sync_in_worker_thread(\n",
      "  File \"f:\\Jupyter\\Upwork\\DocumentQA\\DocumentQA\\venv\\lib\\site-packages\\anyio\\_backends\\_asyncio.py\", line 877, in run_sync_in_worker_thread\n",
      "    return await future\n",
      "  File \"f:\\Jupyter\\Upwork\\DocumentQA\\DocumentQA\\venv\\lib\\site-packages\\anyio\\_backends\\_asyncio.py\", line 807, in run\n",
      "    result = context.run(func, *args)\n",
      "  File \"f:\\Jupyter\\Upwork\\DocumentQA\\DocumentQA\\auxiliaries_beta.py\", line 221, in retrieve\n",
      "    res = index.query(\n",
      "  File \"f:\\Jupyter\\Upwork\\DocumentQA\\DocumentQA\\venv\\lib\\site-packages\\pinecone\\utils\\error_handling.py\", line 10, in inner_func\n",
      "    return func(*args, **kwargs)\n",
      "  File \"f:\\Jupyter\\Upwork\\DocumentQA\\DocumentQA\\venv\\lib\\site-packages\\pinecone\\data\\index.py\", line 385, in query\n",
      "    response = self._vector_api.query(\n",
      "  File \"f:\\Jupyter\\Upwork\\DocumentQA\\DocumentQA\\venv\\lib\\site-packages\\pinecone\\core\\client\\api_client.py\", line 771, in __call__\n",
      "    return self.callable(self, *args, **kwargs)\n",
      "  File \"f:\\Jupyter\\Upwork\\DocumentQA\\DocumentQA\\venv\\lib\\site-packages\\pinecone\\core\\client\\api\\vector_operations_api.py\", line 711, in __query\n",
      "    return self.call_with_http_info(**kwargs)\n",
      "  File \"f:\\Jupyter\\Upwork\\DocumentQA\\DocumentQA\\venv\\lib\\site-packages\\pinecone\\core\\client\\api_client.py\", line 833, in call_with_http_info\n",
      "    return self.api_client.call_api(\n",
      "  File \"f:\\Jupyter\\Upwork\\DocumentQA\\DocumentQA\\venv\\lib\\site-packages\\pinecone\\core\\client\\api_client.py\", line 408, in call_api\n",
      "    return self.__call_api(resource_path, method,\n",
      "  File \"f:\\Jupyter\\Upwork\\DocumentQA\\DocumentQA\\venv\\lib\\site-packages\\pinecone\\core\\client\\api_client.py\", line 202, in __call_api\n",
      "    raise e\n",
      "  File \"f:\\Jupyter\\Upwork\\DocumentQA\\DocumentQA\\venv\\lib\\site-packages\\pinecone\\core\\client\\api_client.py\", line 195, in __call_api\n",
      "    response_data = self.request(\n",
      "  File \"f:\\Jupyter\\Upwork\\DocumentQA\\DocumentQA\\venv\\lib\\site-packages\\pinecone\\core\\client\\api_client.py\", line 454, in request\n",
      "    return self.rest_client.POST(url,\n",
      "  File \"f:\\Jupyter\\Upwork\\DocumentQA\\DocumentQA\\venv\\lib\\site-packages\\pinecone\\core\\client\\rest.py\", line 301, in POST\n",
      "    return self.request(\"POST\", url,\n",
      "  File \"f:\\Jupyter\\Upwork\\DocumentQA\\DocumentQA\\venv\\lib\\site-packages\\pinecone\\core\\client\\rest.py\", line 260, in request\n",
      "    raise PineconeApiException(http_resp=r)\n",
      "pinecone.core.client.exceptions.PineconeApiException: (400)\n",
      "Reason: Bad Request\n",
      "HTTP response headers: HTTPHeaderDict({'content-type': 'application/json', 'Content-Length': '102', 'x-pinecone-request-latency-ms': '7', 'date': 'Thu, 25 Jan 2024 07:26:50 GMT', 'x-envoy-upstream-service-time': '7', 'server': 'envoy', 'Via': '1.1 google', 'Alt-Svc': 'h3=\":443\"; ma=2592000,h3-29=\":443\"; ma=2592000'})\n",
      "HTTP response body: {\"code\":3,\"message\":\"Vector dimension 384 does not match the dimension of the index 768\",\"details\":[]}\n",
      "\n"
     ]
    }
   ],
   "source": [
    "iface.launch()"
   ]
  },
  {
   "cell_type": "code",
   "execution_count": null,
   "metadata": {},
   "outputs": [],
   "source": []
  }
 ],
 "metadata": {
  "kernelspec": {
   "display_name": "documentqa",
   "language": "python",
   "name": "documentqa"
  },
  "language_info": {
   "codemirror_mode": {
    "name": "ipython",
    "version": 3
   },
   "file_extension": ".py",
   "mimetype": "text/x-python",
   "name": "python",
   "nbconvert_exporter": "python",
   "pygments_lexer": "ipython3",
   "version": "3.10.4"
  }
 },
 "nbformat": 4,
 "nbformat_minor": 2
}
