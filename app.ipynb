{
 "cells": [
  {
   "cell_type": "code",
   "execution_count": 1,
   "metadata": {},
   "outputs": [
    {
     "name": "stderr",
     "output_type": "stream",
     "text": [
      "f:\\Jupyter\\Upwork\\DocumentQA\\DocumentQA\\venv\\lib\\site-packages\\tqdm\\auto.py:21: TqdmWarning: IProgress not found. Please update jupyter and ipywidgets. See https://ipywidgets.readthedocs.io/en/stable/user_install.html\n",
      "  from .autonotebook import tqdm as notebook_tqdm\n"
     ]
    }
   ],
   "source": [
    "import gradio as gr\n",
    "from auxiliaries_beta import (\n",
    "    embed_upsert, summarize, ask_question, answer_question\n",
    ")"
   ]
  },
  {
   "cell_type": "code",
   "execution_count": 2,
   "metadata": {},
   "outputs": [],
   "source": [
    "def save_chats(history):\n",
    "    with open(\"chat_history.txt\", \"w\", encoding='utf-8') as f:\n",
    "        for line in history:\n",
    "            f.writelines(line)\n",
    "            f.write('\\n\\n')"
   ]
  },
  {
   "cell_type": "code",
   "execution_count": 3,
   "metadata": {},
   "outputs": [],
   "source": [
    "chatbot_ask = gr.Chatbot(\n",
    "    value=[[None, \"Hi. Ask me a question about the document you uploaded.\"]],\n",
    "    )\n",
    "chatbot_answer = gr.Chatbot(\n",
    "    value=[[None, \"Hi. Let me ask you a question about the document you uploaded.\"]],\n",
    ")\n",
    "\n",
    "namespace = gr.Textbox(\n",
    "    label=\"Namespace (Pinecone)\", \n",
    "    placeholder=\"(Optional) Display or Enter Pinecone Document Namespace\",\n",
    "    visible=False\n",
    ")\n",
    "\n",
    "with gr.Blocks() as demo:\n",
    "    with gr.Tab(\"Upload Document\"):\n",
    "        file = gr.File()\n",
    "        feedback = gr.Markdown()\n",
    "\n",
    "        file.change(fn=embed_upsert, inputs=file, outputs=[feedback, namespace])\n",
    "\n",
    "    with gr.Tab(\"Ask Questions\"):\n",
    "\n",
    "        gr.ChatInterface(\n",
    "            fn=ask_question, \n",
    "            additional_inputs=[namespace],\n",
    "            chatbot=chatbot_ask\n",
    "        )\n",
    "\n",
    "        with gr.Accordion(\"Document Summary\"):\n",
    "            summary = gr.Markdown()\n",
    "            button = gr.Button(\"Summarize\")\n",
    "\n",
    "\n",
    "        button.click(fn=summarize, inputs=file, outputs=summary)\n",
    "\n",
    "    with gr.Tab(\"Answer Questions\"):\n",
    "        gr.ChatInterface(\n",
    "            fn=answer_question, \n",
    "            additional_inputs=[namespace],\n",
    "            chatbot=chatbot_answer\n",
    "        )\n",
    "\n",
    "        with gr.Accordion(\"Document Summary\"):\n",
    "            summary = gr.Markdown()\n",
    "            button = gr.Button(\"Summarize\")\n",
    "\n",
    "\n",
    "        button.click(fn=summarize, inputs=file, outputs=summary)"
   ]
  },
  {
   "cell_type": "code",
   "execution_count": null,
   "metadata": {},
   "outputs": [
    {
     "name": "stdout",
     "output_type": "stream",
     "text": [
      "Running on local URL:  http://127.0.0.1:7860\n",
      "\n",
      "To create a public link, set `share=True` in `launch()`.\n"
     ]
    },
    {
     "data": {
      "text/html": [
       "<div><iframe src=\"http://127.0.0.1:7860/\" width=\"100%\" height=\"500\" allow=\"autoplay; camera; microphone; clipboard-read; clipboard-write;\" frameborder=\"0\" allowfullscreen></iframe></div>"
      ],
      "text/plain": [
       "<IPython.core.display.HTML object>"
      ]
     },
     "metadata": {},
     "output_type": "display_data"
    },
    {
     "data": {
      "text/plain": []
     },
     "execution_count": 4,
     "metadata": {},
     "output_type": "execute_result"
    },
    {
     "name": "stderr",
     "output_type": "stream",
     "text": [
      "100%|██████████| 15/15 [00:00<00:00, 428.54it/s]\n"
     ]
    },
    {
     "name": "stdout",
     "output_type": "stream",
     "text": [
      "Execution time in seconds: 0.21499919891357422\n",
      "The length of our dense vector is: 384\n"
     ]
    },
    {
     "name": "stderr",
     "output_type": "stream",
     "text": [
      "f:\\Jupyter\\Upwork\\DocumentQA\\DocumentQA\\venv\\lib\\site-packages\\langchain_core\\_api\\deprecation.py:117: LangChainDeprecationWarning: The function `__call__` was deprecated in LangChain 0.1.0 and will be removed in 0.2.0. Use invoke instead.\n",
      "  warn_deprecated(\n"
     ]
    },
    {
     "name": "stdout",
     "output_type": "stream",
     "text": [
      "The length of our dense vector is: 384\n",
      "The length of our dense vector is: 384\n",
      "The length of our dense vector is: 384\n",
      "The length of our dense vector is: 384\n"
     ]
    },
    {
     "name": "stderr",
     "output_type": "stream",
     "text": [
      "Traceback (most recent call last):\n",
      "  File \"f:\\Jupyter\\Upwork\\DocumentQA\\DocumentQA\\venv\\lib\\site-packages\\gradio\\queueing.py\", line 495, in call_prediction\n",
      "    output = await route_utils.call_process_api(\n",
      "  File \"f:\\Jupyter\\Upwork\\DocumentQA\\DocumentQA\\venv\\lib\\site-packages\\gradio\\route_utils.py\", line 232, in call_process_api\n",
      "    output = await app.get_blocks().process_api(\n",
      "  File \"f:\\Jupyter\\Upwork\\DocumentQA\\DocumentQA\\venv\\lib\\site-packages\\gradio\\blocks.py\", line 1561, in process_api\n",
      "    result = await self.call_function(\n",
      "  File \"f:\\Jupyter\\Upwork\\DocumentQA\\DocumentQA\\venv\\lib\\site-packages\\gradio\\blocks.py\", line 1179, in call_function\n",
      "    prediction = await anyio.to_thread.run_sync(\n",
      "  File \"f:\\Jupyter\\Upwork\\DocumentQA\\DocumentQA\\venv\\lib\\site-packages\\anyio\\to_thread.py\", line 33, in run_sync\n",
      "    return await get_asynclib().run_sync_in_worker_thread(\n",
      "  File \"f:\\Jupyter\\Upwork\\DocumentQA\\DocumentQA\\venv\\lib\\site-packages\\anyio\\_backends\\_asyncio.py\", line 877, in run_sync_in_worker_thread\n",
      "    return await future\n",
      "  File \"f:\\Jupyter\\Upwork\\DocumentQA\\DocumentQA\\venv\\lib\\site-packages\\anyio\\_backends\\_asyncio.py\", line 807, in run\n",
      "    result = context.run(func, *args)\n",
      "  File \"f:\\Jupyter\\Upwork\\DocumentQA\\DocumentQA\\venv\\lib\\site-packages\\gradio\\utils.py\", line 678, in wrapper\n",
      "    response = f(*args, **kwargs)\n",
      "  File \"f:\\Jupyter\\Upwork\\DocumentQA\\DocumentQA\\auxiliaries_beta.py\", line 149, in embed_upsert\n",
      "    documents = read_split_pdf(filepath)\n",
      "  File \"f:\\Jupyter\\Upwork\\DocumentQA\\DocumentQA\\auxiliaries_beta.py\", line 113, in read_split_pdf\n",
      "    loader = PyMuPDFLoader(file)\n",
      "  File \"f:\\Jupyter\\Upwork\\DocumentQA\\DocumentQA\\venv\\lib\\site-packages\\langchain_community\\document_loaders\\pdf.py\", line 352, in __init__\n",
      "    super().__init__(file_path, headers=headers)\n",
      "  File \"f:\\Jupyter\\Upwork\\DocumentQA\\DocumentQA\\venv\\lib\\site-packages\\langchain_community\\document_loaders\\pdf.py\", line 79, in __init__\n",
      "    if \"~\" in self.file_path:\n",
      "TypeError: argument of type 'NoneType' is not iterable\n",
      "100%|██████████| 456/456 [00:00<00:00, 876.92it/s]\n"
     ]
    },
    {
     "name": "stdout",
     "output_type": "stream",
     "text": [
      "Execution time in seconds: 1.0097250938415527\n",
      "The length of our dense vector is: 384\n",
      "The length of our dense vector is: 384\n",
      "The length of our dense vector is: 384\n",
      "The length of our dense vector is: 384\n"
     ]
    },
    {
     "name": "stderr",
     "output_type": "stream",
     "text": [
      "Traceback (most recent call last):\n",
      "  File \"f:\\Jupyter\\Upwork\\DocumentQA\\DocumentQA\\venv\\lib\\site-packages\\gradio\\queueing.py\", line 495, in call_prediction\n",
      "    output = await route_utils.call_process_api(\n",
      "  File \"f:\\Jupyter\\Upwork\\DocumentQA\\DocumentQA\\venv\\lib\\site-packages\\gradio\\route_utils.py\", line 232, in call_process_api\n",
      "    output = await app.get_blocks().process_api(\n",
      "  File \"f:\\Jupyter\\Upwork\\DocumentQA\\DocumentQA\\venv\\lib\\site-packages\\gradio\\blocks.py\", line 1561, in process_api\n",
      "    result = await self.call_function(\n",
      "  File \"f:\\Jupyter\\Upwork\\DocumentQA\\DocumentQA\\venv\\lib\\site-packages\\gradio\\blocks.py\", line 1179, in call_function\n",
      "    prediction = await anyio.to_thread.run_sync(\n",
      "  File \"f:\\Jupyter\\Upwork\\DocumentQA\\DocumentQA\\venv\\lib\\site-packages\\anyio\\to_thread.py\", line 33, in run_sync\n",
      "    return await get_asynclib().run_sync_in_worker_thread(\n",
      "  File \"f:\\Jupyter\\Upwork\\DocumentQA\\DocumentQA\\venv\\lib\\site-packages\\anyio\\_backends\\_asyncio.py\", line 877, in run_sync_in_worker_thread\n",
      "    return await future\n",
      "  File \"f:\\Jupyter\\Upwork\\DocumentQA\\DocumentQA\\venv\\lib\\site-packages\\anyio\\_backends\\_asyncio.py\", line 807, in run\n",
      "    result = context.run(func, *args)\n",
      "  File \"f:\\Jupyter\\Upwork\\DocumentQA\\DocumentQA\\venv\\lib\\site-packages\\gradio\\utils.py\", line 678, in wrapper\n",
      "    response = f(*args, **kwargs)\n",
      "  File \"f:\\Jupyter\\Upwork\\DocumentQA\\DocumentQA\\auxiliaries_beta.py\", line 149, in embed_upsert\n",
      "    documents = read_split_pdf(filepath)\n",
      "  File \"f:\\Jupyter\\Upwork\\DocumentQA\\DocumentQA\\auxiliaries_beta.py\", line 113, in read_split_pdf\n",
      "    loader = PyMuPDFLoader(file)\n",
      "  File \"f:\\Jupyter\\Upwork\\DocumentQA\\DocumentQA\\venv\\lib\\site-packages\\langchain_community\\document_loaders\\pdf.py\", line 352, in __init__\n",
      "    super().__init__(file_path, headers=headers)\n",
      "  File \"f:\\Jupyter\\Upwork\\DocumentQA\\DocumentQA\\venv\\lib\\site-packages\\langchain_community\\document_loaders\\pdf.py\", line 79, in __init__\n",
      "    if \"~\" in self.file_path:\n",
      "TypeError: argument of type 'NoneType' is not iterable\n",
      "100%|██████████| 3773/3773 [00:04<00:00, 831.42it/s]\n"
     ]
    },
    {
     "name": "stdout",
     "output_type": "stream",
     "text": [
      "Execution time in seconds: 5.88178563117981\n"
     ]
    },
    {
     "name": "stderr",
     "output_type": "stream",
     "text": [
      " 21%|██        | 780/3773 [01:15<03:07, 15.93it/s]"
     ]
    }
   ],
   "source": [
    "demo.launch()"
   ]
  },
  {
   "cell_type": "code",
   "execution_count": null,
   "metadata": {},
   "outputs": [],
   "source": []
  }
 ],
 "metadata": {
  "kernelspec": {
   "display_name": "documentqa",
   "language": "python",
   "name": "documentqa"
  },
  "language_info": {
   "codemirror_mode": {
    "name": "ipython",
    "version": 3
   },
   "file_extension": ".py",
   "mimetype": "text/x-python",
   "name": "python",
   "nbconvert_exporter": "python",
   "pygments_lexer": "ipython3",
   "version": "3.10.4"
  }
 },
 "nbformat": 4,
 "nbformat_minor": 2
}
