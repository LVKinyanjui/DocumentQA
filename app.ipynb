{
 "cells": [
  {
   "cell_type": "code",
   "execution_count": 1,
   "metadata": {},
   "outputs": [
    {
     "name": "stderr",
     "output_type": "stream",
     "text": [
      "f:\\Jupyter\\Upwork\\DocumentQA\\DocumentQA\\venv\\lib\\site-packages\\tqdm\\auto.py:21: TqdmWarning: IProgress not found. Please update jupyter and ipywidgets. See https://ipywidgets.readthedocs.io/en/stable/user_install.html\n",
      "  from .autonotebook import tqdm as notebook_tqdm\n"
     ]
    }
   ],
   "source": [
    "import gradio as gr\n",
    "from auxiliaries_beta import embed_upsert, retrieve, summarize"
   ]
  },
  {
   "cell_type": "code",
   "execution_count": 2,
   "metadata": {},
   "outputs": [],
   "source": [
    "with gr.Blocks() as iface:\n",
    "    namespace = gr.Textbox(\n",
    "    label=\"Namespace (Pinecone)\", \n",
    "    placeholder=\"(Optional) Display or Enter Pinecone Document Namespace\",\n",
    "    visible=False\n",
    "    )\n",
    "\n",
    "    # Adding a welcome messahge\n",
    "    chatbot = gr.Chatbot(\n",
    "        value=[[None, \"Hi. I am here to help you search through your documents through question and answer\"]]\n",
    "        )\n",
    "    gr.ChatInterface(\n",
    "        fn=retrieve, \n",
    "        additional_inputs=[namespace],\n",
    "        chatbot=chatbot\n",
    "    )\n",
    "\n",
    "    with gr.Accordion(\"Document Summary\"):\n",
    "        summary = gr.Markdown()\n",
    "        button = gr.Button(\"Summarize\")\n",
    "\n",
    "    file = gr.File()\n",
    "    feedback = gr.Markdown()\n",
    "\n",
    "    file.change(fn=embed_upsert, inputs=file, outputs=[feedback, namespace])\n",
    "    button.click(fn=summarize, inputs=file, outputs=summary)\n",
    "    # file.change(fn=summarize, inputs=file, outputs=summary)"
   ]
  },
  {
   "cell_type": "code",
   "execution_count": null,
   "metadata": {},
   "outputs": [
    {
     "name": "stdout",
     "output_type": "stream",
     "text": [
      "Running on local URL:  http://127.0.0.1:7860\n",
      "\n",
      "To create a public link, set `share=True` in `launch()`.\n"
     ]
    },
    {
     "data": {
      "text/html": [
       "<div><iframe src=\"http://127.0.0.1:7860/\" width=\"100%\" height=\"500\" allow=\"autoplay; camera; microphone; clipboard-read; clipboard-write;\" frameborder=\"0\" allowfullscreen></iframe></div>"
      ],
      "text/plain": [
       "<IPython.core.display.HTML object>"
      ]
     },
     "metadata": {},
     "output_type": "display_data"
    },
    {
     "data": {
      "text/plain": []
     },
     "execution_count": 3,
     "metadata": {},
     "output_type": "execute_result"
    },
    {
     "name": "stderr",
     "output_type": "stream",
     "text": [
      "100%|██████████| 78/78 [00:00<00:00, 174.50it/s]\n"
     ]
    },
    {
     "name": "stdout",
     "output_type": "stream",
     "text": [
      "Execution time in seconds: 1.18803071975708\n"
     ]
    },
    {
     "name": "stderr",
     "output_type": "stream",
     "text": [
      "f:\\Jupyter\\Upwork\\DocumentQA\\DocumentQA\\venv\\lib\\site-packages\\langchain_core\\_api\\deprecation.py:117: LangChainDeprecationWarning: The function `__call__` was deprecated in LangChain 0.1.0 and will be removed in 0.2.0. Use invoke instead.\n",
      "  warn_deprecated(\n"
     ]
    }
   ],
   "source": [
    "iface.launch()"
   ]
  },
  {
   "cell_type": "code",
   "execution_count": null,
   "metadata": {},
   "outputs": [],
   "source": []
  }
 ],
 "metadata": {
  "kernelspec": {
   "display_name": "documentqa",
   "language": "python",
   "name": "documentqa"
  },
  "language_info": {
   "codemirror_mode": {
    "name": "ipython",
    "version": 3
   },
   "file_extension": ".py",
   "mimetype": "text/x-python",
   "name": "python",
   "nbconvert_exporter": "python",
   "pygments_lexer": "ipython3",
   "version": "3.10.4"
  }
 },
 "nbformat": 4,
 "nbformat_minor": 2
}
