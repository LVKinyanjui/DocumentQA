{
 "cells": [
  {
   "cell_type": "markdown",
   "metadata": {},
   "source": [
    "Here we explore how to interact with google's new gemini models using langchain. There is value in doing this as langchain provides neat abstractions for woorking with llms."
   ]
  },
  {
   "cell_type": "markdown",
   "metadata": {},
   "source": [
    "### NOTE\n",
    "It is necessary to install the latest version of langchain. Otherwise, we get a `ValidationError` when we pass our `ChatGoogleGenerativeAI` llm to the conversation chain constructor. "
   ]
  },
  {
   "cell_type": "code",
   "execution_count": null,
   "metadata": {},
   "outputs": [],
   "source": [
    "# !pip install google-generativeai langchain-google-genai"
   ]
  },
  {
   "cell_type": "code",
   "execution_count": 1,
   "metadata": {},
   "outputs": [
    {
     "name": "stderr",
     "output_type": "stream",
     "text": [
      "f:\\Jupyter\\Upwork\\DocumentQA\\DocumentQA\\venv\\lib\\site-packages\\tqdm\\auto.py:21: TqdmWarning: IProgress not found. Please update jupyter and ipywidgets. See https://ipywidgets.readthedocs.io/en/stable/user_install.html\n",
      "  from .autonotebook import tqdm as notebook_tqdm\n"
     ]
    }
   ],
   "source": [
    "import os\n",
    "from langchain.chains import ConversationChain\n",
    "from langchain_google_genai import ChatGoogleGenerativeAI\n",
    "from langchain.chains.conversation.memory import ConversationBufferWindowMemory"
   ]
  },
  {
   "cell_type": "code",
   "execution_count": 3,
   "metadata": {},
   "outputs": [],
   "source": [
    "from langchain_google_genai.llms import GoogleGenerativeAI"
   ]
  },
  {
   "cell_type": "code",
   "execution_count": 5,
   "metadata": {},
   "outputs": [],
   "source": [
    "llm = ChatGoogleGenerativeAI(\n",
    "    google_api_key=os.getenv(\"PALM_API_KEY\"),\n",
    "    model=\"gemini-pro\",\n",
    "    temperature=0.3, \n",
    "    convert_system_message_to_human=True\n",
    "    )                    "
   ]
  },
  {
   "cell_type": "markdown",
   "metadata": {},
   "source": [
    "### Memory\n",
    "Our key intention is to understand how to use the memory capabilities that langchain provides us, with the gemini models rather than the, now legacy, PALM models."
   ]
  },
  {
   "cell_type": "code",
   "execution_count": 6,
   "metadata": {},
   "outputs": [],
   "source": [
    "conversation_chain = ConversationChain(\n",
    "    llm=llm,\n",
    "    memory=ConversationBufferWindowMemory(k=6)\n",
    ")"
   ]
  },
  {
   "cell_type": "code",
   "execution_count": 9,
   "metadata": {},
   "outputs": [],
   "source": [
    "prompt = input(\"Enter prompt\")\n",
    "result = conversation_chain(prompt)"
   ]
  },
  {
   "cell_type": "code",
   "execution_count": 12,
   "metadata": {},
   "outputs": [
    {
     "data": {
      "text/plain": [
       "{'input': 'who was roald dahl',\n",
       " 'history': 'Human: who is willy wonka?\\nAI: Willy Wonka is a fictional character created by British author Roald Dahl. He is the eccentric and enigmatic owner of the Wonka Chocolate Factory, which is known for its fantastical and magical candies. Wonka is first introduced in Dahl\\'s 1964 children\\'s novel Charlie and the Chocolate Factory, and he has since appeared in several adaptations of the story, including the 1971 film Willy Wonka & the Chocolate Factory and the 2005 film Charlie and the Chocolate Factory.\\n\\nWilly Wonka is known for his eccentric personality and his love of candy. He is often depicted as a tall, thin man with a long white beard and a purple suit. He is also known for his catchphrase, \"Oompa-Loompa-Doompety-Doo!\"\\n\\nWilly Wonka\\'s chocolate factory is a magical place, filled with all sorts of wonderful and strange things. There are rivers of chocolate, trees that grow candy, and machines that make all sorts of delicious treats. Wonka\\'s factory is also home to the Oompa-Loompas, a race of small, orange-skinned people who work in the factory and help Wonka create his candies.\\n\\nWilly Wonka is a complex and fascinating character. He is both kind and cruel, generous and selfish. He is a genius inventor, but he is also a bit of a mad scientist. He is a man of contradictions, but he is also a man of great imagination and creativity.\\nHuman: what did willy wonka do?\\nAI: Willy Wonka is a fictional character created by British author Roald Dahl. He is the eccentric and enigmatic owner of the Wonka Chocolate Factory, which is known for its fantastical and magical candies. Wonka is first introduced in Dahl\\'s 1964 children\\'s novel Charlie and the Chocolate Factory, and he has since appeared in several adaptations of the story, including the 1971 film Willy Wonka & the Chocolate Factory and the 2005 film Charlie and the Chocolate Factory.\\n\\nIn the story, Willy Wonka invites five children to tour his chocolate factory. The children are chosen because they each have a unique personality trait that Wonka believes is important for success. During the tour, the children encounter all sorts of strange and wonderful things, including a chocolate river, a waterfall of soda, and a room full of squirrels that sort nuts.\\n\\nWilly Wonka is a complex and fascinating character. He is both kind and cruel, generous and selfish. He is a genius inventor, but he is also a bit of a mad scientist. He is a man of contradictions, but he is also a man of great imagination and creativity.\\n\\nHere are some specific things that Willy Wonka did in the story:\\n\\n* He invented a machine that can make any kind of candy.\\n* He created a chocolate river that flows through his factory.\\n* He built a waterfall of soda that cascades down from the ceiling.\\n* He created a room full of squirrels that sort nuts.\\n* He invented a machine that can shrink people down to the size of a doll.\\n* He created a giant glass elevator that can fly.\\n* He invited five children to tour his factory and compete for a chance to win a lifetime supply of candy.\\n\\nWilly Wonka is a memorable and beloved character who has captured the imaginations of children and adults alike for generations.',\n",
       " 'response': \"Roald Dahl (1916-1990) was a British novelist, short story writer, poet, and screenwriter. He is best known for his children's books, which are characterized by their humor, darkness, and often unexpected twists. Some of his most famous works include Charlie and the Chocolate Factory, Matilda, The Witches, and James and the Giant Peach.\\n\\nDahl was born in Llandaff, Wales, to Norwegian parents. He spent his childhood in England and attended Repton School, where he developed a passion for writing. After graduating from school, Dahl worked for a time as a salesman and then as a Shell Oil executive in Africa. During World War II, he served as a fighter pilot in the Royal Air Force and was shot down over Libya. He survived the crash, but was seriously injured and spent several months in the hospital.\\n\\nAfter the war, Dahl began writing full-time. His first children's book, The Gremlins, was published in 1943. He went on to write over 30 books for children, as well as several short stories and novels for adults. His books have been translated into more than 60 languages and have sold over 250 million copies worldwide.\\n\\nDahl was a controversial figure, and his books have been criticized for their violence and darkness. However, he was also a brilliant storyteller, and his books continue to be enjoyed by children and adults alike.\\n\\nHere are some interesting facts about Roald Dahl:\\n\\n* He was a champion chocolate taster for Cadbury's chocolate company.\\n* He was a spy for British intelligence during World War II.\\n* He was married to the actress Patricia Neal.\\n* He had five children.\\n* He died of leukemia in 1990.\\n\\nRoald Dahl is considered one of the greatest children's authors of all time. His books are still widely read and enjoyed today, and they continue to inspire new generations of readers.\"}"
      ]
     },
     "execution_count": 12,
     "metadata": {},
     "output_type": "execute_result"
    }
   ],
   "source": [
    "result"
   ]
  },
  {
   "cell_type": "code",
   "execution_count": null,
   "metadata": {},
   "outputs": [],
   "source": []
  }
 ],
 "metadata": {
  "kernelspec": {
   "display_name": "documentqa",
   "language": "python",
   "name": "documentqa"
  },
  "language_info": {
   "codemirror_mode": {
    "name": "ipython",
    "version": 3
   },
   "file_extension": ".py",
   "mimetype": "text/x-python",
   "name": "python",
   "nbconvert_exporter": "python",
   "pygments_lexer": "ipython3",
   "version": "3.10.4"
  }
 },
 "nbformat": 4,
 "nbformat_minor": 2
}
