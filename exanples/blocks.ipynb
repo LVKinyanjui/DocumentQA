{
 "cells": [
  {
   "cell_type": "markdown",
   "metadata": {},
   "source": [
    "### Binding Multiple Trigers to a Function\n",
    "Often times, you may want to bind multiple triggers to the same function. For example, you may want to allow a user to click a submit button, or press enter to submit a form. This is described in the [gradio docs](https://www.gradio.app/guides/blocks-and-event-listeners#binding-multiple-triggers-to-a-function)."
   ]
  },
  {
   "cell_type": "code",
   "execution_count": 1,
   "metadata": {},
   "outputs": [
    {
     "name": "stdout",
     "output_type": "stream",
     "text": [
      "Running on local URL:  http://127.0.0.1:7863\n",
      "\n",
      "To create a public link, set `share=True` in `launch()`.\n"
     ]
    },
    {
     "data": {
      "text/html": [
       "<div><iframe src=\"http://127.0.0.1:7863/\" width=\"100%\" height=\"500\" allow=\"autoplay; camera; microphone; clipboard-read; clipboard-write;\" frameborder=\"0\" allowfullscreen></iframe></div>"
      ],
      "text/plain": [
       "<IPython.core.display.HTML object>"
      ]
     },
     "metadata": {},
     "output_type": "display_data"
    },
    {
     "data": {
      "text/plain": []
     },
     "execution_count": 1,
     "metadata": {},
     "output_type": "execute_result"
    }
   ],
   "source": [
    "import gradio as gr\n",
    "\n",
    "with gr.Blocks() as demo:\n",
    "    name = gr.Textbox(label=\"Name\")\n",
    "    output = gr.Textbox(label=\"Output Box\")\n",
    "    greet_btn = gr.Button(\"Greet\")\n",
    "    trigger = gr.Textbox(label=\"Trigger Box\")\n",
    "    trigger2 = gr.Textbox(label=\"Trigger Box\")\n",
    "\n",
    "    def greet(name, evt_data: gr.EventData):\n",
    "        return \"Hello \" + name + \"!\", evt_data.target.__class__.__name__\n",
    "    \n",
    "    def clear_name(evt_data: gr.EventData):\n",
    "        return \"\", evt_data.target.__class__.__name__\n",
    "    \n",
    "    gr.on(\n",
    "        triggers=[name.submit, greet_btn.click],\n",
    "        fn=greet,\n",
    "        inputs=name,\n",
    "        outputs=[output, trigger],\n",
    "    ).then(clear_name, outputs=[name, trigger2])\n",
    "\n",
    "\n",
    "demo.launch()"
   ]
  },
  {
   "cell_type": "code",
   "execution_count": null,
   "metadata": {},
   "outputs": [],
   "source": []
  }
 ],
 "metadata": {
  "kernelspec": {
   "display_name": "Python 3",
   "language": "python",
   "name": "python3"
  },
  "language_info": {
   "codemirror_mode": {
    "name": "ipython",
    "version": 3
   },
   "file_extension": ".py",
   "mimetype": "text/x-python",
   "name": "python",
   "nbconvert_exporter": "python",
   "pygments_lexer": "ipython3",
   "version": "3.10.4"
  }
 },
 "nbformat": 4,
 "nbformat_minor": 2
}
