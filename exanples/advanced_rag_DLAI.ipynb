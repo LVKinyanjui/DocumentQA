{
 "cells": [
  {
   "cell_type": "markdown",
   "metadata": {},
   "source": [
    "<h1 align=center> Query Expansion </h1>"
   ]
  },
  {
   "cell_type": "code",
   "execution_count": 62,
   "metadata": {},
   "outputs": [],
   "source": [
    "import google.generativeai as genai\n",
    "from pinecone import Pinecone\n",
    "from pypdf import PdfReader\n",
    "\n",
    "import os, uuid\n",
    "import numpy as np\n",
    "from tqdm import tqdm\n",
    "import umap.umap_ as umap\n",
    "\n",
    "from IPython.display import display, Markdown\n",
    "import matplotlib.pyplot as plt\n",
    "\n",
    "from gemini_async import async_embed"
   ]
  },
  {
   "cell_type": "markdown",
   "metadata": {},
   "source": [
    "## Gemini"
   ]
  },
  {
   "cell_type": "code",
   "execution_count": 2,
   "metadata": {},
   "outputs": [],
   "source": [
    "genai.configure(api_key=os.getenv('GOOGLE_API_KEY'))\n",
    "\n",
    "model = genai.GenerativeModel('gemini-pro')"
   ]
  },
  {
   "cell_type": "markdown",
   "metadata": {},
   "source": [
    "## Connect to Pinecone"
   ]
  },
  {
   "cell_type": "code",
   "execution_count": 3,
   "metadata": {},
   "outputs": [],
   "source": [
    "pc = Pinecone(api_key=os.getenv('PINECONE_API_KEY'), environment='gcp-starter')"
   ]
  },
  {
   "cell_type": "markdown",
   "metadata": {},
   "source": [
    "### Load Documents"
   ]
  },
  {
   "cell_type": "code",
   "execution_count": 4,
   "metadata": {},
   "outputs": [],
   "source": [
    "def load_documents(filepath):\n",
    "    reader = PdfReader(filepath)\n",
    "    pdf_texts = [p.extract_text().strip() for p in reader.pages]\n",
    "\n",
    "    # Filter the empty strings\n",
    "    pdf_texts = [text for text in pdf_texts if text]\n",
    "    return pdf_texts"
   ]
  },
  {
   "cell_type": "code",
   "execution_count": 5,
   "metadata": {},
   "outputs": [],
   "source": [
    "texts = load_documents('data/financial_documents.pdf')"
   ]
  },
  {
   "cell_type": "markdown",
   "metadata": {},
   "source": [
    "## Embed and Upsert to Pinecone"
   ]
  },
  {
   "cell_type": "code",
   "execution_count": 6,
   "metadata": {},
   "outputs": [],
   "source": [
    "namespace = 'rag-testing'"
   ]
  },
  {
   "cell_type": "code",
   "execution_count": 7,
   "metadata": {},
   "outputs": [],
   "source": [
    "def get_index():\n",
    "    indexes = pc.list_indexes()\n",
    "    index_name = indexes[0]['name']\n",
    "    index = pc.Index(index_name)\n",
    "    return index\n"
   ]
  },
  {
   "cell_type": "code",
   "execution_count": 8,
   "metadata": {},
   "outputs": [],
   "source": [
    "def batch_upsert(dense_vectors, namespace, batch_size=100):\n",
    "\n",
    "    index = get_index()\n",
    "\n",
    "    records = []\n",
    "    for dense_vector in dense_vectors:\n",
    "        \n",
    "        record = {\n",
    "            'id': str(uuid.uuid4().int),\n",
    "            'values': dense_vector['embeddings']['embedding']['values'],\n",
    "            'metadata': {\n",
    "                'text': dense_vector['text_metadata']\n",
    "            }\n",
    "        }\n",
    "\n",
    "        records.append(record)\n",
    "\n",
    "    # Asynchronous upsert: Faster\n",
    "    def chunker(seq, batch_size):\n",
    "        return (seq[pos:pos + batch_size] for pos in range(0, len(seq), batch_size))\n",
    "\n",
    "    async_results = [\n",
    "    index.upsert(vectors=chunk, namespace=namespace, async_req=True)\n",
    "    for chunk in chunker(records, batch_size=batch_size)\n",
    "    ]"
   ]
  },
  {
   "cell_type": "code",
   "execution_count": 9,
   "metadata": {},
   "outputs": [],
   "source": [
    "# index = get_index()\n",
    "# index.delete(delete_all=True, namespace='rag-testing')"
   ]
  },
  {
   "cell_type": "markdown",
   "metadata": {},
   "source": [
    "#### Note on Asynchronous Gemini Call\n",
    "Because we are running a jupyter notebook, if we try to run `asyncio.run(main())` we will get the following error.\n",
    "``` python\n",
    "RuntimeError: asyncio.run() cannot be called from a running event loop\n",
    "```\n",
    "So we simply `await` the asynchronous function. It really is that simple."
   ]
  },
  {
   "cell_type": "code",
   "execution_count": 10,
   "metadata": {},
   "outputs": [],
   "source": [
    "dense_vectors = await async_embed(texts)"
   ]
  },
  {
   "cell_type": "code",
   "execution_count": 11,
   "metadata": {},
   "outputs": [],
   "source": [
    "batch_upsert(dense_vectors, namespace=namespace)"
   ]
  },
  {
   "cell_type": "markdown",
   "metadata": {},
   "source": [
    "## Visualize Embeddings"
   ]
  },
  {
   "cell_type": "code",
   "execution_count": 55,
   "metadata": {},
   "outputs": [],
   "source": [
    "def project_embeddings(embeddings, umap_transform):\n",
    "    umap_embeddings = np.empty((len(embeddings),2))\n",
    "    for i, embedding in enumerate(tqdm(embeddings)): \n",
    "        umap_embeddings[i] = umap_transform.transform([embedding])\n",
    "    return umap_embeddings  "
   ]
  },
  {
   "cell_type": "code",
   "execution_count": 48,
   "metadata": {},
   "outputs": [],
   "source": [
    "all_embeddings = [dense_vector['embeddings']['embedding']['values'] for dense_vector in dense_vectors]"
   ]
  },
  {
   "cell_type": "code",
   "execution_count": 49,
   "metadata": {},
   "outputs": [
    {
     "name": "stderr",
     "output_type": "stream",
     "text": [
      "c:\\Users\\USER\\AppData\\Local\\Programs\\Python\\Python310\\lib\\site-packages\\umap\\umap_.py:1943: UserWarning: n_jobs value -1 overridden to 1 by setting random_state. Use no seed for parallelism.\n",
      "  warn(f\"n_jobs value {self.n_jobs} overridden to 1 by setting random_state. Use no seed for parallelism.\")\n"
     ]
    }
   ],
   "source": [
    "# Fit the embeddings generated from the entire document.\n",
    "umap_transform = umap.UMAP(random_state=0, transform_seed=0).fit(all_embeddings)"
   ]
  },
  {
   "cell_type": "code",
   "execution_count": null,
   "metadata": {},
   "outputs": [
    {
     "name": "stderr",
     "output_type": "stream",
     "text": [
      "100%|██████████| 196/196 [04:38<00:00,  1.42s/it]\n"
     ]
    }
   ],
   "source": [
    "# Project all documents into 2D.\n",
    "# Forms the background on which query matches are compared\n",
    "projected_dataset_embeddings = project_embeddings(all_embeddings, umap_transform)"
   ]
  },
  {
   "cell_type": "markdown",
   "metadata": {},
   "source": [
    "## Retrieval"
   ]
  },
  {
   "cell_type": "code",
   "execution_count": 102,
   "metadata": {},
   "outputs": [],
   "source": [
    "def retrieve(query_vector, index, namespace, top_k=10):   \n",
    "\n",
    "    res = index.query(\n",
    "        top_k=top_k,\n",
    "        vector=query_vector['embedding'],\n",
    "        include_metadata=True,\n",
    "        include_values=True,\n",
    "        namespace=namespace\n",
    "    )\n",
    "    text = [match['metadata']['text'] for match in res['matches']]\n",
    "    embeddings = [result['values'] for result in res['matches']]\n",
    "\n",
    "    return text, embeddings"
   ]
  },
  {
   "cell_type": "markdown",
   "metadata": {},
   "source": [
    "### Original (Naive) Query\n"
   ]
  },
  {
   "cell_type": "code",
   "execution_count": 103,
   "metadata": {},
   "outputs": [],
   "source": [
    "original_query = \"Was there significant turnover in the executive team?\""
   ]
  },
  {
   "cell_type": "code",
   "execution_count": 104,
   "metadata": {},
   "outputs": [],
   "source": [
    "query_vector = genai.embed_content('models/embedding-001', original_query)\n",
    "texts, original_retrieved_embeddings = retrieve(query_vector, \n",
    "         index=get_index(),\n",
    "         namespace=namespace\n",
    "         )"
   ]
  },
  {
   "cell_type": "code",
   "execution_count": 105,
   "metadata": {},
   "outputs": [
    {
     "name": "stderr",
     "output_type": "stream",
     "text": [
      "100%|██████████| 1/1 [00:01<00:00,  1.78s/it]\n",
      "100%|██████████| 10/10 [00:13<00:00,  1.33s/it]\n"
     ]
    }
   ],
   "source": [
    "projected_original_query_embedding = project_embeddings([query_vector['embedding']], umap_transform)\n",
    "projected_original_retrieved_embedding = project_embeddings(original_retrieved_embeddings, umap_transform)"
   ]
  },
  {
   "cell_type": "markdown",
   "metadata": {},
   "source": [
    "### Expansion with Generation"
   ]
  },
  {
   "cell_type": "code",
   "execution_count": 106,
   "metadata": {},
   "outputs": [
    {
     "data": {
      "text/plain": [
       "'Was there significant turnover in the executive team? The context does not provide information about the executive team turnover. So I cannot answer this question from the provided context.'"
      ]
     },
     "execution_count": 106,
     "metadata": {},
     "output_type": "execute_result"
    }
   ],
   "source": [
    "hypothetical_answer = model.generate_content(original_query).text\n",
    "\n",
    "joint_query = f\"{original_query} {hypothetical_answer}\"\n",
    "joint_query"
   ]
  },
  {
   "cell_type": "code",
   "execution_count": 130,
   "metadata": {},
   "outputs": [],
   "source": [
    "query_vector = genai.embed_content('models/embedding-001', joint_query)\n",
    "texts, retrieved_embeddings = retrieve(query_vector, \n",
    "         index=get_index(),\n",
    "         namespace=namespace\n",
    "         )"
   ]
  },
  {
   "cell_type": "code",
   "execution_count": 108,
   "metadata": {},
   "outputs": [
    {
     "name": "stderr",
     "output_type": "stream",
     "text": [
      "100%|██████████| 1/1 [00:01<00:00,  1.20s/it]\n",
      "100%|██████████| 10/10 [00:13<00:00,  1.36s/it]\n"
     ]
    }
   ],
   "source": [
    "projected_query_embedding = project_embeddings([query_vector['embedding']], umap_transform)\n",
    "projected_retrieved_embeddings = project_embeddings(retrieved_embeddings, umap_transform)"
   ]
  },
  {
   "cell_type": "code",
   "execution_count": 109,
   "metadata": {},
   "outputs": [
    {
     "data": {
      "image/png": "[encoded data removed]",
      "text/plain": [
       "<Figure size 1440x720 with 1 Axes>"
      ]
     },
     "metadata": {
      "needs_background": "light"
     },
     "output_type": "display_data"
    }
   ],
   "source": [
    "# Plot the projected query and retrieved documents in the embedding space\n",
    "plt.figure(figsize=(20, 10))\n",
    "plt.scatter(projected_dataset_embeddings[:, 0], projected_dataset_embeddings[:, 1], s=10, color='gray')\n",
    "plt.scatter(projected_retrieved_embeddings[:, 0], projected_retrieved_embeddings[:, 1], s=100, facecolors='none', edgecolors='g')\n",
    "plt.scatter(projected_original_retrieved_embedding[:, 0], projected_original_retrieved_embedding[:, 1], s=100, facecolors='none', edgecolors='blue')\n",
    "plt.scatter(projected_query_embedding[:, 0], projected_query_embedding[:, 1], s=150, marker='X', color='orange')\n",
    "plt.scatter(projected_original_query_embedding[:, 0], projected_original_query_embedding[:, 1], s=150, marker='X', color='red')\n",
    "\n",
    "\n",
    "plt.gca().set_aspect('equal', 'datalim')\n",
    "plt.title(f'{original_query}')\n",
    "plt.axis('off')\n",
    "plt.show()"
   ]
  },
  {
   "cell_type": "markdown",
   "metadata": {},
   "source": [
    "#### Visual Summary\n",
    "The expanded query shifts a little bit from the original one. We also get the exact same hits as with the original query. We would have expected to extract more documents from the expanded query or closer matching but this has not occured. "
   ]
  },
  {
   "cell_type": "code",
   "execution_count": 134,
   "metadata": {},
   "outputs": [],
   "source": [
    "answer = f\"\"\"\n",
    "## Query\n",
    "\n",
    "{joint_query}\n",
    "\n",
    "## Response\n",
    "\n",
    "{'--------------------------------------'.join(texts)}\n",
    "\n",
    "\"\"\""
   ]
  },
  {
   "cell_type": "code",
   "execution_count": null,
   "metadata": {},
   "outputs": [],
   "source": [
    "display(Markdown(answer))"
   ]
  },
  {
   "cell_type": "markdown",
   "metadata": {},
   "source": [
    "### Expansion with Multiple Queries"
   ]
  },
  {
   "cell_type": "code",
   "execution_count": 110,
   "metadata": {},
   "outputs": [],
   "source": [
    "system_prompt = \"\"\"\n",
    "\"You are a helpful expert financial research assistant. Your users are asking questions about an annual report. Suggest up to five additional related questions to help them find the information they need, for the provided question. Suggest only short questions without compound sentences. Suggest a variety of questions that cover different aspects of the topic. Make sure they are complete questions, and that they are related to the original question. Output one question per line. Do not number the questions. The annual report will be attached after this ----------------- \"\n",
    "\"\"\"\n",
    "compound_prompt = system_prompt + original_query"
   ]
  },
  {
   "cell_type": "code",
   "execution_count": 111,
   "metadata": {},
   "outputs": [],
   "source": [
    "augmented_queries = model.generate_content(compound_prompt).text"
   ]
  },
  {
   "cell_type": "code",
   "execution_count": 112,
   "metadata": {},
   "outputs": [],
   "source": [
    "query_vector = genai.embed_content('models/embedding-001', augmented_queries) \n",
    "texts, retrieved_embeddings = retrieve(query_vector, \n",
    "         index=get_index(),\n",
    "         namespace=namespace\n",
    "         )"
   ]
  },
  {
   "cell_type": "code",
   "execution_count": 113,
   "metadata": {},
   "outputs": [
    {
     "name": "stderr",
     "output_type": "stream",
     "text": [
      "100%|██████████| 1/1 [00:01<00:00,  1.48s/it]\n",
      "100%|██████████| 10/10 [00:12<00:00,  1.26s/it]\n"
     ]
    }
   ],
   "source": [
    "projected_query_embedding = project_embeddings([query_vector['embedding']], umap_transform)\n",
    "projected_retrieved_embeddings = project_embeddings(retrieved_embeddings, umap_transform)"
   ]
  },
  {
   "cell_type": "code",
   "execution_count": 114,
   "metadata": {},
   "outputs": [
    {
     "data": {
      "image/png": "[encoded data removed]",
      "text/plain": [
       "<Figure size 1440x720 with 1 Axes>"
      ]
     },
     "metadata": {
      "needs_background": "light"
     },
     "output_type": "display_data"
    }
   ],
   "source": [
    "# Plot the projected query and retrieved documents in the embedding space\n",
    "plt.figure(figsize=(20, 10))\n",
    "plt.scatter(projected_dataset_embeddings[:, 0], projected_dataset_embeddings[:, 1], s=10, color='gray')\n",
    "plt.scatter(projected_retrieved_embeddings[:, 0], projected_retrieved_embeddings[:, 1], s=100, facecolors='none', edgecolors='g')\n",
    "plt.scatter(projected_original_retrieved_embedding[:, 0], projected_original_retrieved_embedding[:, 1], s=100, facecolors='none', edgecolors='blue')\n",
    "plt.scatter(projected_query_embedding[:, 0], projected_query_embedding[:, 1], s=150, marker='X', color='orange')\n",
    "plt.scatter(projected_original_query_embedding[:, 0], projected_original_query_embedding[:, 1], s=150, marker='X', color='red')\n",
    "\n",
    "\n",
    "plt.gca().set_aspect('equal', 'datalim')\n",
    "plt.title(f'{original_query}')\n",
    "plt.axis('off')\n",
    "plt.show()"
   ]
  },
  {
   "cell_type": "markdown",
   "metadata": {},
   "source": [
    "#### Visual Summary\n",
    "Multiple queries for this document shifts the location of the query vector quite a lot. This means we get quite different results from our vector search. This may be undesirable as it shifts the meaning of the semantic search a little too much and may return documents unrelated to the original query."
   ]
  },
  {
   "cell_type": "markdown",
   "metadata": {},
   "source": [
    "#### Removing Duplicates\n",
    "With multiple queries, there is the possibility that we may get duplicate results. So we need to filter these out to avoid redundancy. As you may know, LLMs have limited context widths and it really isn't efficient to pass duplicated into that limited space.\n",
    "\n",
    "##### Note\n",
    "There may be a problem as the resulting documents after supposedly removing documents, returns in our case 5 from 10 documents regardless of whether we are using expanded query or multiple queries. This is strange behaviour. How is it finding just the exact number of matches in either case?\n",
    "\n",
    "##### Remarks\n",
    "On further investigation it seems to be working as planned on both retrieval techniques."
   ]
  },
  {
   "cell_type": "code",
   "execution_count": null,
   "metadata": {},
   "outputs": [
    {
     "data": {
      "text/plain": [
       "['104 Admiral Group plc  · Annual Report and Accounts 2018\\nCEO AND CFO PAY RATIO CONTINUED \\nFinancial year 2018 Method Lower quartile Median quartile Upper quartile\\nCEO pay ratio Option A 18:1 15:1 11:1\\nCFO pay ratio 62:1 54:1 38:1\\nThe CEO pay ratio will likely be relatively stable from one year to the next given David Stevens’ pay does not include any variable \\ncomponents. The CFO pay ratio, however, will vary from year to year as Geraint Jones’ remuneration package is heavily weighted to variable \\nand equity-based components.\\nThe Lower Quartile and Median employees were not in receipt of DFSS Bonus and/or DFSS vesting in the year.\\nThe legislation provides three options to calculate the pay ratio; Option “A”, which involves calculating the actual full time equivalent \\n(FTE) remuneration for all relevant employees for the fiscal year in question, has been used for the calculation above, consistent with the \\nGovernment’s and investor bodies’ preferred approach. The employee data has been reviewed and we are satisfied that it fairly reflects \\npay at the relevant quartiles. No adjustments have been applied in determining the employee pay levels which are set out below.\\nCEO CFO P25 (lower quartile) P50 (median) P75 (upper quartile)\\nSalary £399,301 £343,225 £16,850 £21,000 £21,750\\nTotal Remuneration1£403,662 £1,420,918 £22,751 £26,361 £37,055\\n1.  The single figure of remuneration for the CEO and CFO includes actual salary and pension costs paid during 2018, in line with The Companies (Miscellaneous Reporting) \\nregulations 2018. For other employees, salary and pension costs are included on an FTE basis, in line with the legislation. While the basis of calculation differs between CEO/CFO \\nand other employees, management considers this a fair comparison of remuneration. \\nRELATIVE IMPORTANCE OF SPEND ON PAY\\nThe table below shows the percentage change in dividends and total employee remuneration spend from the financial year ended 31 \\nDecember 2017 to the financial year ended 31 December 2018. \\n2018  \\n£m2017  \\n£m% \\nchange\\nDistribution to shareholders 357 320 +12%\\nEmployee remuneration 382 324 +18%\\nThe Directors are proposing a final dividend for the year ended 31 December 2018 of 66 pence per share bringing the total dividend for \\n2018 to 126 pence per share (2017: 114 pence per share).\\nPAY FOR PERFORMANCE \\nThe following graph sets out a comparison of Total Shareholder Return (TSR) for Admiral Group plc shares with that of the FTSE 100 and \\nFTSE 350 indices, of which the Company is a constituent, over the ten-year period to 31 December 2018. The Directors consider these \\nto be the most appropriate indices against which the Company should be compared. TSR is defined as the percentage change over the \\nperiod, assuming reinvestment of income. Annual Report on Remuneration  continuedCorporate Governance',\n",
       " 'VALUING OUR PEOPLE \\nCUSTOMER  FOCUS\\nTEST AND LEARN\\nA GREAT PLACE\\nTO WORK\\nCUSTOMER  CARE\\nPEOPLE WHO LIKE\\nWHAT THEY DO\\nDO IT BETTER\\nINNOVATION \\nCUSTOMER  SUPPORT \\nCLEAR AND HONEST\\nCOMMUNICATION \\nTEAMWORKAnnual Report 2018\\nAnnual Report 2018',\n",
       " 'Financial Statements Additional Information Corporate Governance Strategic Report Company Overview17 Admiral Group plc  · Annual Report and Accounts 2018Every day revolves around attracting, keeping and satisfying customers. \\nWe value customers above everything else and strive to design products \\nthat customers want and that represent value for money.\\nHow we  \\nmaximise value\\nMotivated Employees\\nGreat place to work for employees\\nFocused  \\nManagement Team\\nValue for money products and  \\nexcellent customer serviceRisk Mitigation\\nAttractive returns for shareholders\\nSustainable Operations\\nCharitable giving and volunteering  \\nin the local community\\nEffective Solutions\\nValued loyal customersVoted\\nNo.1\\nbest large \\ncompany to  \\nwork for in UKVoted\\n56%\\nReturn on  \\nequity\\n£156,000\\nraised for  \\nMillion Makers \\n(Princes Trust)126p\\nDividend98%\\ncustomers \\nwould buy  \\nagain\\n>9/10\\ncustomer \\nsatisfaction \\nscore following  \\na policy change',\n",
       " 'Financial Statements Additional Information Corporate Governance Strategic Report Company Overview29 Admiral Group plc  · Annual Report and Accounts 2018Estimated sensitivities to the current Group solvency ratio are \\npresented in the table below. These sensitivities cover the two \\nmost material risk types, insurance risk and market risk, and within \\nthese risks cover the most significant elements of the risk profile. \\nAside from the catastrophe events, estimated sensitivities have not \\nbeen calibrated to individual return periods. \\nSOLVENCY RATIO SENSITIVITIES  (UNAUDITED)\\n2018 2017\\nUK Motor – incurred loss ratio +5% -27% -26%\\nUK Motor – 1 in 200 catastrophe event -2% -3%\\nUK Household – 1 in 200 catastrophe event -2% -2%\\nInterest rate – yield curve down 50 bps -12% -11%\\nCredit spreads widen 100 bps -5% -4%\\nCurrency – 25% movement in euro  \\nand US dollar -3% -3%\\nASHE – long term inflation assumption  \\nup 0.5% -10% -4%\\nTAXATION\\nThe tax charge reported in the consolidated income statement \\nis £85.7 million (2017: £71.9 million), equating to 18.0% of pre-tax \\nprofit (2017: 17.8%).\\nINVESTMENTS AND CASH\\nInvestment strategy\\nAdmiral’s investment strategy was unchanged in 2018. \\nThe main focus of the Group’s strategy is capital preservation, with \\nadditional priorities including low volatility of returns and high \\nlevels of liquidity. All objectives continue to be met. The Group’s \\nInvestment Committee performs regular reviews of the strategy to \\nensure it remains appropriate.Cash and investments analysis\\n£m 2018 2017 2016\\nFixed income and debt \\nsecurities 1,568.6 1,493.5 1,469.2\\nMoney market funds and  \\nother fair value instruments 1,301.1 1,074.3 781.0\\nCash deposits 100.0 130.0 170.0\\nCash 376.8 326.8 326.6\\nTotal 3,346.5 3,024.6 2,746.8\\nMoney market funds, fixed income and debt securities comprise the \\nmajority of the total; 86% at 31 December 2018 (2017: 85%). \\nInvestment and interest income in 2017 was £36.7 million, a \\nreduction of £5.0 million on 2017 (£41.7 million). 2017 benefitted \\nfrom a gain on the sale of gilt assets and excluding this gain, the \\ntotal investment and interest income is consistent with 2017. \\nThe underlying rate of return for the year (excluding accruals \\nrelated to reinsurance contract funds withheld) on the Group’s cash \\nand investments was 1.2% (2017: 1.3%).\\nThe Group continues to generate significant amounts of cash and \\nits capital-efficient business model enables the distribution of the \\nmajority of post-tax profits as dividends.',\n",
       " 'Financial Statements Additional Information Corporate Governance Strategic Report Company Overview185 Admiral Group plc  · Annual Report and Accounts 2018\\nA pre-tax discount rate of 12% has been used, calculated using a Capital Asset Pricing Model (CAPM) calculation (using a risk free return \\nplus an appropriate risk premium), given that an asset specific rate is not available from the market. The table below details the impact of \\na 1% change in the discount rate and terminal value, and a 5% decrease in the year 5 projected profit (and thereby terminal value) on the \\nrecoverable amount.\\nSensitivity: Impact on recoverable amount of a:\\n1% decrease in terminal growth rate\\n£m1% increase in pre-tax discount rate \\n£m5% decrease in year 5 profit \\n£m\\ncompare.com (3.1) (4.4) (1.7)\\nThe Board remains confident in the prospects of the business and continues to support compare.com in the achievement of its goals. \\nHowever, given the challenging US price comparison market conditions there remains considerable uncertainty over the timing and level \\nof the future profitability of the business.\\n5. FINANCIAL ASSETS AND LIABILITIES\\nThe Company’s financial instruments can be analysed as follows:\\n31 December \\n2018\\n£m31 December \\n2017\\n£m\\nInvestments classified as FVOCI\\nGilts 170.8 173.8\\n170.8 173.8\\nInvestments classified at amortised cost\\nDeposits with credit institutions – 20.0\\n– 20.0\\nInvestments classified at FVTPL\\nInvestment funds 5.5 38.6\\n5.5 38.6\\nTotal financial investments 176.3 232.4\\nFinancial assets held at amortised cost\\nTrade and other receivables (Note 7) 128.6 0.6\\nCash and cash equivalents 83.3 6.8\\nTotal financial assets 388.2 239.8\\nFinancial liabilities\\nSubordinated notes 204.1 204.0\\nOther borrowings 71.5 20.0\\nTrade and other payables (Note 8) 346.1 189.4\\nTotal financial liabilities 621.7 413.4\\nThe amortised cost carrying amount of deposits and receivables is a reasonable approximation of fair value. The fair value of subordinated \\nnotes (level one valuation) together with their carrying value shown in the Statement of Financial Position as follows:\\n31 December 2018 31 December 2017\\nCarrying \\namount\\n£mFair \\nvalue\\n£mCarrying \\namount\\n£mFair \\nvalue\\n£m\\nFinancial liabilities\\nSubordinated notes 204.1 211.3 204.0 229.2\\nInterest payable of £11.3 million (2017: £11.3 million) was recognised in relation to the subordinated loan notes.']"
      ]
     },
     "metadata": {},
     "output_type": "display_data"
    }
   ],
   "source": [
    "# Deduplicate the retrieved documents\n",
    "unique_documents = set()\n",
    "for document in texts:\n",
    "    unique_documents.add(document)\n",
    "\n",
    "unique_documents = list(unique_documents)\n",
    "unique_documents"
   ]
  },
  {
   "cell_type": "code",
   "execution_count": 125,
   "metadata": {},
   "outputs": [],
   "source": [
    "answer = f\"\"\"\n",
    "## Query\n",
    "\n",
    "{augmented_queries}\n",
    "\n",
    "## Response\n",
    "\n",
    "{'--------------------------------------'.join(unique_documents)}\n",
    "\n",
    "\"\"\""
   ]
  },
  {
   "cell_type": "code",
   "execution_count": 127,
   "metadata": {},
   "outputs": [
    {
     "data": {
      "text/markdown": [
       "\n",
       "## Query\n",
       "\n",
       "Is there a more detailed breakdown of executive compensation?\n",
       "What was the company's return on invested capital?\n",
       "Were there any significant changes in accounting policies?\n",
       "How did the company's debt-to-equity ratio change over the past year?\n",
       "\n",
       "## Response\n",
       "\n",
       "104 Admiral Group plc  · Annual Report and Accounts 2018\n",
       "CEO AND CFO PAY RATIO CONTINUED \n",
       "Financial year 2018 Method Lower quartile Median quartile Upper quartile\n",
       "CEO pay ratio Option A 18:1 15:1 11:1\n",
       "CFO pay ratio 62:1 54:1 38:1\n",
       "The CEO pay ratio will likely be relatively stable from one year to the next given David Stevens’ pay does not include any variable \n",
       "components. The CFO pay ratio, however, will vary from year to year as Geraint Jones’ remuneration package is heavily weighted to variable \n",
       "and equity-based components.\n",
       "The Lower Quartile and Median employees were not in receipt of DFSS Bonus and/or DFSS vesting in the year.\n",
       "The legislation provides three options to calculate the pay ratio; Option “A”, which involves calculating the actual full time equivalent \n",
       "(FTE) remuneration for all relevant employees for the fiscal year in question, has been used for the calculation above, consistent with the \n",
       "Government’s and investor bodies’ preferred approach. The employee data has been reviewed and we are satisfied that it fairly reflects \n",
       "pay at the relevant quartiles. No adjustments have been applied in determining the employee pay levels which are set out below.\n",
       "CEO CFO P25 (lower quartile) P50 (median) P75 (upper quartile)\n",
       "Salary £399,301 £343,225 £16,850 £21,000 £21,750\n",
       "Total Remuneration1£403,662 £1,420,918 £22,751 £26,361 £37,055\n",
       "1.  The single figure of remuneration for the CEO and CFO includes actual salary and pension costs paid during 2018, in line with The Companies (Miscellaneous Reporting) \n",
       "regulations 2018. For other employees, salary and pension costs are included on an FTE basis, in line with the legislation. While the basis of calculation differs between CEO/CFO \n",
       "and other employees, management considers this a fair comparison of remuneration. \n",
       "RELATIVE IMPORTANCE OF SPEND ON PAY\n",
       "The table below shows the percentage change in dividends and total employee remuneration spend from the financial year ended 31 \n",
       "December 2017 to the financial year ended 31 December 2018. \n",
       "2018  \n",
       "£m2017  \n",
       "£m% \n",
       "change\n",
       "Distribution to shareholders 357 320 +12%\n",
       "Employee remuneration 382 324 +18%\n",
       "The Directors are proposing a final dividend for the year ended 31 December 2018 of 66 pence per share bringing the total dividend for \n",
       "2018 to 126 pence per share (2017: 114 pence per share).\n",
       "PAY FOR PERFORMANCE \n",
       "The following graph sets out a comparison of Total Shareholder Return (TSR) for Admiral Group plc shares with that of the FTSE 100 and \n",
       "FTSE 350 indices, of which the Company is a constituent, over the ten-year period to 31 December 2018. The Directors consider these \n",
       "to be the most appropriate indices against which the Company should be compared. TSR is defined as the percentage change over the \n",
       "period, assuming reinvestment of income. Annual Report on Remuneration  continuedCorporate Governance--------------------------------------VALUING OUR PEOPLE \n",
       "CUSTOMER  FOCUS\n",
       "TEST AND LEARN\n",
       "A GREAT PLACE\n",
       "TO WORK\n",
       "CUSTOMER  CARE\n",
       "PEOPLE WHO LIKE\n",
       "WHAT THEY DO\n",
       "DO IT BETTER\n",
       "INNOVATION \n",
       "CUSTOMER  SUPPORT \n",
       "CLEAR AND HONEST\n",
       "COMMUNICATION \n",
       "TEAMWORKAnnual Report 2018\n",
       "Annual Report 2018--------------------------------------Financial Statements Additional Information Corporate Governance Strategic Report Company Overview17 Admiral Group plc  · Annual Report and Accounts 2018Every day revolves around attracting, keeping and satisfying customers. \n",
       "We value customers above everything else and strive to design products \n",
       "that customers want and that represent value for money.\n",
       "How we  \n",
       "maximise value\n",
       "Motivated Employees\n",
       "Great place to work for employees\n",
       "Focused  \n",
       "Management Team\n",
       "Value for money products and  \n",
       "excellent customer serviceRisk Mitigation\n",
       "Attractive returns for shareholders\n",
       "Sustainable Operations\n",
       "Charitable giving and volunteering  \n",
       "in the local community\n",
       "Effective Solutions\n",
       "Valued loyal customersVoted\n",
       "No.1\n",
       "best large \n",
       "company to  \n",
       "work for in UKVoted\n",
       "56%\n",
       "Return on  \n",
       "equity\n",
       "£156,000\n",
       "raised for  \n",
       "Million Makers \n",
       "(Princes Trust)126p\n",
       "Dividend98%\n",
       "customers \n",
       "would buy  \n",
       "again\n",
       ">9/10\n",
       "customer \n",
       "satisfaction \n",
       "score following  \n",
       "a policy change--------------------------------------Financial Statements Additional Information Corporate Governance Strategic Report Company Overview29 Admiral Group plc  · Annual Report and Accounts 2018Estimated sensitivities to the current Group solvency ratio are \n",
       "presented in the table below. These sensitivities cover the two \n",
       "most material risk types, insurance risk and market risk, and within \n",
       "these risks cover the most significant elements of the risk profile. \n",
       "Aside from the catastrophe events, estimated sensitivities have not \n",
       "been calibrated to individual return periods. \n",
       "SOLVENCY RATIO SENSITIVITIES  (UNAUDITED)\n",
       "2018 2017\n",
       "UK Motor – incurred loss ratio +5% -27% -26%\n",
       "UK Motor – 1 in 200 catastrophe event -2% -3%\n",
       "UK Household – 1 in 200 catastrophe event -2% -2%\n",
       "Interest rate – yield curve down 50 bps -12% -11%\n",
       "Credit spreads widen 100 bps -5% -4%\n",
       "Currency – 25% movement in euro  \n",
       "and US dollar -3% -3%\n",
       "ASHE – long term inflation assumption  \n",
       "up 0.5% -10% -4%\n",
       "TAXATION\n",
       "The tax charge reported in the consolidated income statement \n",
       "is £85.7 million (2017: £71.9 million), equating to 18.0% of pre-tax \n",
       "profit (2017: 17.8%).\n",
       "INVESTMENTS AND CASH\n",
       "Investment strategy\n",
       "Admiral’s investment strategy was unchanged in 2018. \n",
       "The main focus of the Group’s strategy is capital preservation, with \n",
       "additional priorities including low volatility of returns and high \n",
       "levels of liquidity. All objectives continue to be met. The Group’s \n",
       "Investment Committee performs regular reviews of the strategy to \n",
       "ensure it remains appropriate.Cash and investments analysis\n",
       "£m 2018 2017 2016\n",
       "Fixed income and debt \n",
       "securities 1,568.6 1,493.5 1,469.2\n",
       "Money market funds and  \n",
       "other fair value instruments 1,301.1 1,074.3 781.0\n",
       "Cash deposits 100.0 130.0 170.0\n",
       "Cash 376.8 326.8 326.6\n",
       "Total 3,346.5 3,024.6 2,746.8\n",
       "Money market funds, fixed income and debt securities comprise the \n",
       "majority of the total; 86% at 31 December 2018 (2017: 85%). \n",
       "Investment and interest income in 2017 was £36.7 million, a \n",
       "reduction of £5.0 million on 2017 (£41.7 million). 2017 benefitted \n",
       "from a gain on the sale of gilt assets and excluding this gain, the \n",
       "total investment and interest income is consistent with 2017. \n",
       "The underlying rate of return for the year (excluding accruals \n",
       "related to reinsurance contract funds withheld) on the Group’s cash \n",
       "and investments was 1.2% (2017: 1.3%).\n",
       "The Group continues to generate significant amounts of cash and \n",
       "its capital-efficient business model enables the distribution of the \n",
       "majority of post-tax profits as dividends.--------------------------------------Financial Statements Additional Information Corporate Governance Strategic Report Company Overview185 Admiral Group plc  · Annual Report and Accounts 2018\n",
       "A pre-tax discount rate of 12% has been used, calculated using a Capital Asset Pricing Model (CAPM) calculation (using a risk free return \n",
       "plus an appropriate risk premium), given that an asset specific rate is not available from the market. The table below details the impact of \n",
       "a 1% change in the discount rate and terminal value, and a 5% decrease in the year 5 projected profit (and thereby terminal value) on the \n",
       "recoverable amount.\n",
       "Sensitivity: Impact on recoverable amount of a:\n",
       "1% decrease in terminal growth rate\n",
       "£m1% increase in pre-tax discount rate \n",
       "£m5% decrease in year 5 profit \n",
       "£m\n",
       "compare.com (3.1) (4.4) (1.7)\n",
       "The Board remains confident in the prospects of the business and continues to support compare.com in the achievement of its goals. \n",
       "However, given the challenging US price comparison market conditions there remains considerable uncertainty over the timing and level \n",
       "of the future profitability of the business.\n",
       "5. FINANCIAL ASSETS AND LIABILITIES\n",
       "The Company’s financial instruments can be analysed as follows:\n",
       "31 December \n",
       "2018\n",
       "£m31 December \n",
       "2017\n",
       "£m\n",
       "Investments classified as FVOCI\n",
       "Gilts 170.8 173.8\n",
       "170.8 173.8\n",
       "Investments classified at amortised cost\n",
       "Deposits with credit institutions – 20.0\n",
       "– 20.0\n",
       "Investments classified at FVTPL\n",
       "Investment funds 5.5 38.6\n",
       "5.5 38.6\n",
       "Total financial investments 176.3 232.4\n",
       "Financial assets held at amortised cost\n",
       "Trade and other receivables (Note 7) 128.6 0.6\n",
       "Cash and cash equivalents 83.3 6.8\n",
       "Total financial assets 388.2 239.8\n",
       "Financial liabilities\n",
       "Subordinated notes 204.1 204.0\n",
       "Other borrowings 71.5 20.0\n",
       "Trade and other payables (Note 8) 346.1 189.4\n",
       "Total financial liabilities 621.7 413.4\n",
       "The amortised cost carrying amount of deposits and receivables is a reasonable approximation of fair value. The fair value of subordinated \n",
       "notes (level one valuation) together with their carrying value shown in the Statement of Financial Position as follows:\n",
       "31 December 2018 31 December 2017\n",
       "Carrying \n",
       "amount\n",
       "£mFair \n",
       "value\n",
       "£mCarrying \n",
       "amount\n",
       "£mFair \n",
       "value\n",
       "£m\n",
       "Financial liabilities\n",
       "Subordinated notes 204.1 211.3 204.0 229.2\n",
       "Interest payable of £11.3 million (2017: £11.3 million) was recognised in relation to the subordinated loan notes.\n",
       "\n"
      ],
      "text/plain": [
       "<IPython.core.display.Markdown object>"
      ]
     },
     "metadata": {},
     "output_type": "display_data"
    }
   ],
   "source": [
    "display(Markdown(answer))"
   ]
  },
  {
   "cell_type": "markdown",
   "metadata": {},
   "source": [
    "## Lesson 4: Cross-Encoder Reranking\n",
    "This allows us to judge the relevance of our queried documents. For this, we use a `CrossEncoder`, whose models we can find [here](https://huggingface.co/cross-encoder/ms-marco-MiniLM-L-2-v2)."
   ]
  },
  {
   "cell_type": "code",
   "execution_count": 115,
   "metadata": {},
   "outputs": [],
   "source": [
    "from sentence_transformers import CrossEncoder"
   ]
  },
  {
   "cell_type": "code",
   "execution_count": 116,
   "metadata": {},
   "outputs": [
    {
     "data": {
      "application/vnd.jupyter.widget-view+json": {
       "model_id": "c345fec164154bafa9030c774d9f42ce",
       "version_major": 2,
       "version_minor": 0
      },
      "text/plain": [
       "config.json:   0%|          | 0.00/794 [00:00<?, ?B/s]"
      ]
     },
     "metadata": {},
     "output_type": "display_data"
    },
    {
     "name": "stderr",
     "output_type": "stream",
     "text": [
      "c:\\Users\\USER\\AppData\\Local\\Programs\\Python\\Python310\\lib\\site-packages\\huggingface_hub\\file_download.py:147: UserWarning: `huggingface_hub` cache-system uses symlinks by default to efficiently store duplicated files but your machine does not support them in C:\\Users\\USER\\.cache\\huggingface\\hub. Caching files will still work but in a degraded version that might require more space on your disk. This warning can be disabled by setting the `HF_HUB_DISABLE_SYMLINKS_WARNING` environment variable. For more details, see https://huggingface.co/docs/huggingface_hub/how-to-cache#limitations.\n",
      "To support symlinks on Windows, you either need to activate Developer Mode or to run Python as an administrator. In order to see activate developer mode, see this article: https://docs.microsoft.com/en-us/windows/apps/get-started/enable-your-device-for-development\n",
      "  warnings.warn(message)\n"
     ]
    },
    {
     "data": {
      "application/vnd.jupyter.widget-view+json": {
       "model_id": "d391ce38dbf24976b287a23016c9a72a",
       "version_major": 2,
       "version_minor": 0
      },
      "text/plain": [
       "pytorch_model.bin:   0%|          | 0.00/90.9M [00:00<?, ?B/s]"
      ]
     },
     "metadata": {},
     "output_type": "display_data"
    },
    {
     "data": {
      "application/vnd.jupyter.widget-view+json": {
       "model_id": "6ece8c9936724afc841a8a563cfc163a",
       "version_major": 2,
       "version_minor": 0
      },
      "text/plain": [
       "tokenizer_config.json:   0%|          | 0.00/316 [00:00<?, ?B/s]"
      ]
     },
     "metadata": {},
     "output_type": "display_data"
    },
    {
     "data": {
      "application/vnd.jupyter.widget-view+json": {
       "model_id": "6bc0d645719f4350ac6e5526a8da2931",
       "version_major": 2,
       "version_minor": 0
      },
      "text/plain": [
       "vocab.txt:   0%|          | 0.00/232k [00:00<?, ?B/s]"
      ]
     },
     "metadata": {},
     "output_type": "display_data"
    },
    {
     "data": {
      "application/vnd.jupyter.widget-view+json": {
       "model_id": "3f2a4c7933f04c58aa7ca457a9c4d5d1",
       "version_major": 2,
       "version_minor": 0
      },
      "text/plain": [
       "special_tokens_map.json:   0%|          | 0.00/112 [00:00<?, ?B/s]"
      ]
     },
     "metadata": {},
     "output_type": "display_data"
    }
   ],
   "source": [
    "cross_encoder = CrossEncoder('cross-encoder/ms-marco-MiniLM-L-6-v2')"
   ]
  },
  {
   "cell_type": "code",
   "execution_count": 128,
   "metadata": {},
   "outputs": [
    {
     "name": "stdout",
     "output_type": "stream",
     "text": [
      "Scores:\n",
      "-10.429474\n",
      "-11.39995\n",
      "-11.251896\n",
      "-10.748027\n",
      "-11.237085\n"
     ]
    }
   ],
   "source": [
    "pairs = [[original_query, doc] for doc in unique_documents]\n",
    "scores = cross_encoder.predict(pairs)\n",
    "print(\"Scores:\")\n",
    "for score in scores:\n",
    "    print(score)"
   ]
  },
  {
   "cell_type": "code",
   "execution_count": 142,
   "metadata": {},
   "outputs": [
    {
     "data": {
      "text/plain": [
       "['VALUING OUR PEOPLE \\nCUSTOMER  FOCUS\\nTEST AND LEARN\\nA GREAT PLACE\\nTO WORK\\nCUSTOMER  CARE\\nPEOPLE WHO LIKE\\nWHAT THEY DO\\nDO IT BETTER\\nINNOVATION \\nCUSTOMER  SUPPORT \\nCLEAR AND HONEST\\nCOMMUNICATION \\nTEAMWORKAnnual Report 2018\\nAnnual Report 2018',\n",
       " '62 Admiral Group plc  · Annual Report and Accounts 2018\\n“ During the year, the Board reflected on the \\nimportance of the Group’s culture and held a specific \\nBoard session in January 2018 on the trends and \\nobservations coming out of the participation by \\nemployees across the Group in the Best Place to  \\nWork Survey.”Introduction from \\nthe ChairmanCorporate Governance\\nDEAR SHAREHOLDER,\\nI am pleased to present the Group’s \\nCorporate Governance Report for 2018 \\nwhich sets out the Admiral framework \\nof governance and the approach the \\nBoard has taken during 2018 to promote \\nthe standards of good corporate \\ngovernance that are rightly expected by \\nour stakeholders.\\nThe revised UK Corporate Governance \\nCode issued in July 2018, which applies \\nto the Group with effect from 1 January \\n2019, contains significant amendments \\nto the previous version issued in 2016.  \\nAs a result, the Board has set spent \\ntime reviewing how the updated \\nprovisions will be implemented and \\nwhat amendments will be required \\nto enhance our current reporting and \\nprocesses.  We are already well placed \\nto comply with the changes contained \\nin the new Code, however, we will report \\nagainst the principles and provisions in \\nthe new Code in more detail in our 2019 \\nAnnual Report and Accounts.\\nDuring the year, the Board reflected \\non the importance of the Group’s \\nculture and held a specific Board \\nsession in January 2018 on the trends \\nand observations coming out of the participation by employees across \\nthe Group in the Best Place to Work \\nSurvey. Admiral has a strong and unique \\nculture – a key differentiator from \\nour competitors.  This will continue \\nto be a focus of the Board and, \\nconsequently, we will allocate Board \\ntime to the assessment and monitoring \\nof the Group’s culture to ensure that \\nit remains aligned with the Group’s \\npurpose and values. \\nCustomer outcomes were also \\nconsidered by the Board in April 2018.  \\nThe session focused on the Admiral \\nbrand and the development of customer \\nexperience and oversight, as well as how \\nthe Group’s customer journey compared \\nagainst competitors.     \\nSuccession planning remains an area \\nof focus as the Board seeks to ensure \\nthat the composition and balance of \\nthe Board is reviewed and refreshed \\nwhere necessary; that continuity is \\nmaintained, and that directors with the \\nappropriate skills and experience join \\nthe Board to bring fresh perspective \\nand challenge to the Group’s strategy \\nin the markets in which it operates.  \\nIn this context, there were a number \\nof changes to the composition of the Board in 2018.  I was pleased to welcome \\nAndy Crossley, who joined the Board as a \\nNon-Executive Director and member of \\nthe Audit Committee in February 2018, \\nMike Brierley, who joined the Board as a \\nNon-Executive Director and member of \\nthe Audit Committee in October 2018, \\nand Karen Green, who joined the Board \\nas a Non-Executive Director and Chair \\nof the Audit Committee in December \\n2018.  Karen succeeds Colin Holmes, \\nwho stepped down as a Non-Executive \\nDirector, Senior Independent Director \\nand Chairman of the Audit Committee \\nin December 2018 after 8 years on \\nthe Board. I would like to take this \\nopportunity to thank Colin for his loyal \\nservice, wise counsel and excellent \\ncontribution to the Admiral Group \\nduring the time he has been on the \\nAdmiral Board.  \\nAn externally facilitated evaluation \\nis due to take place later in 2019 and, \\ntherefore, the process of evaluating \\nthe Board’s performance this year \\nconsisted of each Board member \\ncompleting a questionnaire detailing \\nspecific areas of focus for the Board \\nincluding succession planning and \\nBoard composition, the priorities \\nfor change, the impact of previous']"
      ]
     },
     "execution_count": 142,
     "metadata": {},
     "output_type": "execute_result"
    }
   ],
   "source": [
    "# Reranking\n",
    "top_k = 2\n",
    "top_k_idx = [o for o in np.argsort(scores)[::-1]][:top_k]\n",
    "[unique_documents[i] for i in top_k_idx]"
   ]
  },
  {
   "cell_type": "markdown",
   "metadata": {},
   "source": [
    "## Lesson 5: Embedding Adaptors\n",
    "Incorporates user feedback to improve the embedding and retrieval process. This involves training a small lightweight torch model."
   ]
  },
  {
   "cell_type": "code",
   "execution_count": 143,
   "metadata": {},
   "outputs": [],
   "source": [
    "import torch"
   ]
  },
  {
   "cell_type": "markdown",
   "metadata": {},
   "source": [
    "### Create Dataset\n",
    "We need a training dataset that reflects user preferences for retrieved results. This may be a real dataset collected from human responses, or a `synthetic dataset`, created with the help of a large language model. We shall explore the latter for now."
   ]
  },
  {
   "cell_type": "code",
   "execution_count": 164,
   "metadata": {},
   "outputs": [],
   "source": [
    "model = genai.GenerativeModel('gemini-pro')"
   ]
  },
  {
   "cell_type": "code",
   "execution_count": 165,
   "metadata": {},
   "outputs": [],
   "source": [
    "def generate_queries(model):\n",
    "    system_prompt = f\"\"\"\n",
    "    \"You are a helpful expert financial research assistant. You help users analyze financial statements to better understand companies. \"\n",
    "    \"\"\"\n",
    "    messages = f\"\"\"\n",
    "\n",
    "    {system_prompt}\n",
    "\n",
    "    \"Suggest 10 to 15 short questions that are important to ask when analyzing an annual report. \"\n",
    "    \"Do not output any compound questions (questions with multiple sentences or conjunctions).\"\n",
    "    \"Output each question on a separate line divided by a newline.\"\n",
    "    \"It's not necessary to use bullet points to list each sentence, just output a new sentence on each new line\"\n",
    "\n",
    "    \"\"\"\n",
    "\n",
    "    content = model.generate_content(messages).text\n",
    "\n",
    "    return content.split('\\n')"
   ]
  },
  {
   "cell_type": "code",
   "execution_count": 166,
   "metadata": {},
   "outputs": [],
   "source": [
    "def evaluate_results(query, statement, model):\n",
    "    system_prompt = f\"\"\"\n",
    "        \"You are a helpful expert financial research assistant. You help users analyze financial statements to better understand companies. \"\n",
    "        \"For the given query, evaluate whether the following satement is relevant.\"\n",
    "        \"Output only 'yes' or 'no'.\"\n",
    "    \"\"\"\n",
    "    messages = f\"\"\"\n",
    "\n",
    "    {system_prompt}\n",
    "\n",
    "    \"Query: {query}, Statement: {statement}\"\n",
    "\n",
    "    \"\"\"\n",
    "\n",
    "    content = model.generate_content(messages).text\n",
    "    \n",
    "    if content == \"yes\":\n",
    "        return 1\n",
    "    return -1"
   ]
  },
  {
   "cell_type": "code",
   "execution_count": 167,
   "metadata": {},
   "outputs": [
    {
     "name": "stdout",
     "output_type": "stream",
     "text": [
      "What is the company's revenue growth rate?\n",
      "What is the company's net income margin?\n",
      "What is the company's return on equity?\n",
      "What is the company's debt-to-equity ratio?\n",
      "What is the company's inventory turnover ratio?\n",
      "What are the company's major risks and uncertainties?\n",
      "What is the company's management's outlook for the future?\n",
      "What are the company's major sources of revenue?\n",
      "What are the company's major expenses?\n",
      "What are the company's major assets and liabilities?\n",
      "What is the company's dividend payout ratio?\n",
      "What is the company's share price performance?\n",
      "How does the company's financial performance compare to its competitors?\n",
      "How has the company's financial performance changed over time?\n"
     ]
    }
   ],
   "source": [
    "generated_queries = generate_queries(model)\n",
    "for query in generated_queries:\n",
    "    print(query)"
   ]
  },
  {
   "cell_type": "code",
   "execution_count": 175,
   "metadata": {},
   "outputs": [
    {
     "name": "stderr",
     "output_type": "stream",
     "text": [
      "100%|██████████| 14/14 [00:25<00:00,  1.85s/it]\n"
     ]
    }
   ],
   "source": [
    "retrieved_documents = []\n",
    "retrieved_embeddings = []\n",
    "query_embeddings = []\n",
    "\n",
    "for query in tqdm(generated_queries):\n",
    "    query_vector = genai.embed_content('models/embedding-001', query) \n",
    "    texts, retrieved_embedding = retrieve(query_vector, \n",
    "            index=get_index(),\n",
    "            namespace=namespace\n",
    "            )\n",
    "    query_embeddings.append(query_vector['embedding'])\n",
    "    retrieved_documents.append(texts)\n",
    "    retrieved_embeddings.append(retrieved_embedding)"
   ]
  },
  {
   "cell_type": "code",
   "execution_count": 176,
   "metadata": {},
   "outputs": [
    {
     "name": "stderr",
     "output_type": "stream",
     "text": [
      "  0%|          | 0/14 [00:00<?, ?it/s]"
     ]
    },
    {
     "name": "stderr",
     "output_type": "stream",
     "text": [
      "100%|██████████| 10/10 [00:18<00:00,  1.87s/it]\n",
      "100%|██████████| 10/10 [00:14<00:00,  1.44s/it]\n",
      "100%|██████████| 10/10 [00:19<00:00,  2.00s/it]\n",
      "100%|██████████| 10/10 [00:14<00:00,  1.47s/it]\n",
      "100%|██████████| 10/10 [00:17<00:00,  1.75s/it]\n",
      "100%|██████████| 10/10 [00:16<00:00,  1.65s/it]\n",
      "100%|██████████| 10/10 [00:20<00:00,  2.03s/it]\n",
      "100%|██████████| 10/10 [00:15<00:00,  1.56s/it]\n",
      "100%|██████████| 10/10 [00:16<00:00,  1.61s/it]\n",
      "100%|██████████| 10/10 [00:17<00:00,  1.71s/it]\n",
      "100%|██████████| 10/10 [00:15<00:00,  1.52s/it]\n",
      "100%|██████████| 10/10 [00:13<00:00,  1.35s/it]\n",
      "100%|██████████| 10/10 [00:16<00:00,  1.68s/it]\n",
      "100%|██████████| 10/10 [00:14<00:00,  1.45s/it]\n",
      "100%|██████████| 14/14 [03:51<00:00, 16.51s/it]\n"
     ]
    }
   ],
   "source": [
    "adapter_query_embeddings = []\n",
    "adapter_doc_embeddings = []\n",
    "adapter_labels = []\n",
    "\n",
    "for q, query in enumerate(tqdm(generated_queries)):\n",
    "    for d, document in enumerate(tqdm(retrieved_documents[q])):\n",
    "        adapter_query_embeddings.append(query_embeddings[q])\n",
    "        adapter_doc_embeddings.append(retrieved_embeddings[q][d])\n",
    "        adapter_labels.append(evaluate_results(query, document, model))"
   ]
  },
  {
   "cell_type": "markdown",
   "metadata": {},
   "source": [
    "### Converting to Torch Dataset"
   ]
  },
  {
   "cell_type": "code",
   "execution_count": 177,
   "metadata": {},
   "outputs": [],
   "source": [
    "adapter_query_embeddings = torch.Tensor(np.array(adapter_query_embeddings))\n",
    "adapter_doc_embeddings = torch.Tensor(np.array(adapter_doc_embeddings))\n",
    "adapter_labels = torch.Tensor(np.expand_dims(np.array(adapter_labels),1))\n",
    "\n",
    "dataset = torch.utils.data.TensorDataset(adapter_query_embeddings, adapter_doc_embeddings, adapter_labels)"
   ]
  },
  {
   "cell_type": "markdown",
   "metadata": {},
   "source": [
    "### Setting up Model"
   ]
  },
  {
   "cell_type": "code",
   "execution_count": 179,
   "metadata": {},
   "outputs": [],
   "source": [
    "def model(query_embedding, document_embedding, adaptor_matrix):\n",
    "    updated_query_embedding = torch.matmul(adaptor_matrix, query_embedding)\n",
    "    return torch.cosine_similarity(updated_query_embedding, document_embedding, dim=0)\n",
    "\n",
    "def mse_loss(query_embedding, document_embedding, adaptor_matrix, label):\n",
    "    return torch.nn.MSELoss()(model(query_embedding, document_embedding, adaptor_matrix), label)"
   ]
  },
  {
   "cell_type": "code",
   "execution_count": 180,
   "metadata": {},
   "outputs": [],
   "source": [
    "# Initialize the adaptor matrix\n",
    "mat_size = len(adapter_query_embeddings[0])\n",
    "adapter_matrix = torch.randn(mat_size, mat_size, requires_grad=True)"
   ]
  },
  {
   "cell_type": "code",
   "execution_count": 183,
   "metadata": {},
   "outputs": [
    {
     "name": "stderr",
     "output_type": "stream",
     "text": [
      "  0%|          | 0/100 [00:00<?, ?it/s]c:\\Users\\USER\\AppData\\Local\\Programs\\Python\\Python310\\lib\\site-packages\\torch\\nn\\modules\\loss.py:536: UserWarning: Using a target size (torch.Size([1])) that is different to the input size (torch.Size([])). This will likely lead to incorrect results due to broadcasting. Please ensure they have the same size.\n",
      "  return F.mse_loss(input, target, reduction=self.reduction)\n",
      "100%|██████████| 100/100 [01:31<00:00,  1.09it/s]\n"
     ]
    }
   ],
   "source": [
    "min_loss = float('inf')\n",
    "best_matrix = None\n",
    "\n",
    "for epoch in tqdm(range(100)):\n",
    "    for query_embedding, document_embedding, label in dataset:\n",
    "        loss = mse_loss(query_embedding, document_embedding, adapter_matrix, label)\n",
    "\n",
    "        if loss < min_loss:\n",
    "            min_loss = loss\n",
    "            best_matrix = adapter_matrix.clone().detach().numpy()\n",
    "\n",
    "        loss.backward()\n",
    "        with torch.no_grad():\n",
    "            adapter_matrix -= 0.01 * adapter_matrix.grad\n",
    "            adapter_matrix.grad.zero_()\n",
    "        "
   ]
  },
  {
   "cell_type": "code",
   "execution_count": 184,
   "metadata": {},
   "outputs": [
    {
     "name": "stdout",
     "output_type": "stream",
     "text": [
      "Best loss: 0.7664833068847656\n"
     ]
    }
   ],
   "source": [
    "print(f\"Best loss: {min_loss.detach().numpy()}\")"
   ]
  },
  {
   "cell_type": "markdown",
   "metadata": {},
   "source": [
    "### Visualization"
   ]
  },
  {
   "cell_type": "code",
   "execution_count": 186,
   "metadata": {},
   "outputs": [
    {
     "data": {
      "image/png": "[encoded data removed]",
      "text/plain": [
       "<Figure size 1440x720 with 1 Axes>"
      ]
     },
     "metadata": {
      "needs_background": "light"
     },
     "output_type": "display_data"
    }
   ],
   "source": [
    "test_vector = torch.ones((mat_size,1))\n",
    "scaled_vector = np.matmul(best_matrix, test_vector).numpy()\n",
    "\n",
    "plt.figure(figsize=(20, 10))\n",
    "plt.bar(range(len(scaled_vector)), scaled_vector.flatten())\n",
    "plt.show()"
   ]
  },
  {
   "cell_type": "code",
   "execution_count": 189,
   "metadata": {},
   "outputs": [
    {
     "name": "stderr",
     "output_type": "stream",
     "text": [
      "100%|██████████| 14/14 [00:36<00:00,  2.60s/it]\n",
      "100%|██████████| 14/14 [00:31<00:00,  2.22s/it]\n"
     ]
    }
   ],
   "source": [
    "query_embeddings = genai.embed_content('models/embedding-001', generated_queries)['embedding']\n",
    "adapted_query_embeddings = np.matmul(best_matrix, np.array(query_embeddings).T).T\n",
    "\n",
    "projected_query_embeddings = project_embeddings(query_embeddings, umap_transform)\n",
    "projected_adapted_query_embeddings = project_embeddings(adapted_query_embeddings, umap_transform)"
   ]
  },
  {
   "cell_type": "code",
   "execution_count": 191,
   "metadata": {},
   "outputs": [
    {
     "data": {
      "image/png": "[encoded data removed]",
      "text/plain": [
       "<Figure size 1440x720 with 1 Axes>"
      ]
     },
     "metadata": {
      "needs_background": "light"
     },
     "output_type": "display_data"
    }
   ],
   "source": [
    "# Plot the projected query and retrieved documents in the embedding space\n",
    "plt.figure(figsize=(20, 10))\n",
    "plt.scatter(projected_dataset_embeddings[:, 0], projected_dataset_embeddings[:, 1], s=10, color='gray')\n",
    "plt.scatter(projected_query_embeddings[:, 0], projected_query_embeddings[:, 1], s=150, marker='X', color='r', label=\"original\")\n",
    "plt.scatter(projected_adapted_query_embeddings[:, 0], projected_adapted_query_embeddings[:, 1], s=150, marker='X', color='green', label=\"adapted\")\n",
    "\n",
    "plt.gca().set_aspect('equal', 'datalim')\n",
    "plt.title(\"Adapted Queries\")\n",
    "plt.axis('off')\n",
    "plt.legend()\n",
    "plt.show()"
   ]
  },
  {
   "cell_type": "markdown",
   "metadata": {},
   "source": [
    "### Remarks\n",
    "The adapted queries are now more consolidated. They are likely to fit user specifications better."
   ]
  },
  {
   "cell_type": "code",
   "execution_count": null,
   "metadata": {},
   "outputs": [],
   "source": []
  }
 ],
 "metadata": {
  "kernelspec": {
   "display_name": "Python 3",
   "language": "python",
   "name": "python3"
  },
  "language_info": {
   "codemirror_mode": {
    "name": "ipython",
    "version": 3
   },
   "file_extension": ".py",
   "mimetype": "text/x-python",
   "name": "python",
   "nbconvert_exporter": "python",
   "pygments_lexer": "ipython3",
   "version": "3.10.4"
  }
 },
 "nbformat": 4,
 "nbformat_minor": 2
}
