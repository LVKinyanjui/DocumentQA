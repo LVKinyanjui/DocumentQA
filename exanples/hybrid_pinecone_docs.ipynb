{
 "cells": [
  {
   "cell_type": "code",
   "execution_count": 52,
   "metadata": {},
   "outputs": [],
   "source": [
    "import os, uuid\n",
    "from tqdm import tqdm\n",
    "\n",
    "from pinecone import Pinecone\n",
    "from pinecone_text.sparse import BM25Encoder\n",
    "from sentence_transformers import SentenceTransformer\n",
    "\n",
    "from langchain.document_loaders import PyMuPDFLoader\n",
    "from langchain.text_splitter import RecursiveCharacterTextSplitter"
   ]
  },
  {
   "cell_type": "markdown",
   "metadata": {},
   "source": [
    "#### Loading Corpus"
   ]
  },
  {
   "cell_type": "code",
   "execution_count": 8,
   "metadata": {},
   "outputs": [],
   "source": [
    "loader = PyMuPDFLoader(\"data/E1. ExngTextOnly.pdf\")\n",
    "documents = loader.load()\n",
    "doc_texts = [document.page_content for document in documents]"
   ]
  },
  {
   "cell_type": "code",
   "execution_count": 53,
   "metadata": {},
   "outputs": [
    {
     "data": {
      "text/plain": [
       "[Document(page_content='Who are the oldest people you know? What are the\\noldest things you have (i) in your house, (ii) in your city,\\ntown or village? How old are they?\\nHave you ever wished that you were older? Have\\nyou wished that you could grow up in a hurry?', metadata={'source': 'data/E1. ExngTextOnly.pdf', 'file_path': 'data/E1. ExngTextOnly.pdf', 'page': 0, 'total_pages': 2, 'format': 'PDF 1.7', 'title': '*New Text Document.txt - Notepad', 'author': 'Manoj Kumar M', 'subject': '', 'keywords': '', 'creator': '', 'producer': 'Microsoft: Print To PDF', 'creationDate': \"D:20231225192348+04'00'\", 'modDate': \"D:20231225192348+04'00'\", 'trapped': ''}),\n",
       " Document(page_content='Mr Willy Wonka begins by inventing Wonka-\\nVite, which makes people younger. But Wonka-\\nVite is too strong. So some people disappear,\\nbecause their age becomes Minus! One person\\nactually becomes minus eighty-seven, which', metadata={'source': 'data/E1. ExngTextOnly.pdf', 'file_path': 'data/E1. ExngTextOnly.pdf', 'page': 0, 'total_pages': 2, 'format': 'PDF 1.7', 'title': '*New Text Document.txt - Notepad', 'author': 'Manoj Kumar M', 'subject': '', 'keywords': '', 'creator': '', 'producer': 'Microsoft: Print To PDF', 'creationDate': \"D:20231225192348+04'00'\", 'modDate': \"D:20231225192348+04'00'\", 'trapped': ''}),\n",
       " Document(page_content='means he’s got to wait eighty-seven years\\nbefore he can come back.\\nMr Willy Wonka must invent a new thing...\\nMr Wonka said, “So once again I rolled\\nup my sleeves and set to work. Once\\nagain I squeezed my brain, searching for the new', metadata={'source': 'data/E1. ExngTextOnly.pdf', 'file_path': 'data/E1. ExngTextOnly.pdf', 'page': 0, 'total_pages': 2, 'format': 'PDF 1.7', 'title': '*New Text Document.txt - Notepad', 'author': 'Manoj Kumar M', 'subject': '', 'keywords': '', 'creator': '', 'producer': 'Microsoft: Print To PDF', 'creationDate': \"D:20231225192348+04'00'\", 'modDate': \"D:20231225192348+04'00'\", 'trapped': ''}),\n",
       " Document(page_content='recipe... I had to create age... to make people old...\\nold, older, oldest... ‘Ha-ha!’ I cried, for now the\\nideas were beginning to come. ‘What is the oldest\\nliving thing in the world? What lives longer than\\nanything else?’ ”\\n“A tree,” Charlie said.', metadata={'source': 'data/E1. ExngTextOnly.pdf', 'file_path': 'data/E1. ExngTextOnly.pdf', 'page': 0, 'total_pages': 2, 'format': 'PDF 1.7', 'title': '*New Text Document.txt - Notepad', 'author': 'Manoj Kumar M', 'subject': '', 'keywords': '', 'creator': '', 'producer': 'Microsoft: Print To PDF', 'creationDate': \"D:20231225192348+04'00'\", 'modDate': \"D:20231225192348+04'00'\", 'trapped': ''}),\n",
       " Document(page_content='“Right you are, Charlie! But what kind of a\\ntree? Not the Douglas fir. Not the oak. Not the\\ncedar. No, no, my boy. It is a tree called the\\nBristlecone pine that grows upon the slopes of\\nWheeler Peak in Nevada, U.S.A. You can find', metadata={'source': 'data/E1. ExngTextOnly.pdf', 'file_path': 'data/E1. ExngTextOnly.pdf', 'page': 0, 'total_pages': 2, 'format': 'PDF 1.7', 'title': '*New Text Document.txt - Notepad', 'author': 'Manoj Kumar M', 'subject': '', 'keywords': '', 'creator': '', 'producer': 'Microsoft: Print To PDF', 'creationDate': \"D:20231225192348+04'00'\", 'modDate': \"D:20231225192348+04'00'\", 'trapped': ''}),\n",
       " Document(page_content='Bristlecone Pines on Wheeler Peak today that\\nare over 4000 years old! This is fact, Charlie. Ask\\nany dendrochronologist you like (and look that\\nword up in the dictionary when you get home,\\nwill you please?). So that started me off. I', metadata={'source': 'data/E1. ExngTextOnly.pdf', 'file_path': 'data/E1. ExngTextOnly.pdf', 'page': 0, 'total_pages': 2, 'format': 'PDF 1.7', 'title': '*New Text Document.txt - Notepad', 'author': 'Manoj Kumar M', 'subject': '', 'keywords': '', 'creator': '', 'producer': 'Microsoft: Print To PDF', 'creationDate': \"D:20231225192348+04'00'\", 'modDate': \"D:20231225192348+04'00'\", 'trapped': ''}),\n",
       " Document(page_content='jumped into the Great Glass Elevator and\\nrushed all over the world collecting special items\\nfrom the oldest living things...\\n A PINT OF SAP FROM A 4000-YEAR-OLD\\nBRISTLECONE PINE\\n THE TOE-NAIL CLIPPINGS FROM A 168-YEAR-OLD\\nRUSSIAN FARMER CALLED PETROVITCH', metadata={'source': 'data/E1. ExngTextOnly.pdf', 'file_path': 'data/E1. ExngTextOnly.pdf', 'page': 0, 'total_pages': 2, 'format': 'PDF 1.7', 'title': '*New Text Document.txt - Notepad', 'author': 'Manoj Kumar M', 'subject': '', 'keywords': '', 'creator': '', 'producer': 'Microsoft: Print To PDF', 'creationDate': \"D:20231225192348+04'00'\", 'modDate': \"D:20231225192348+04'00'\", 'trapped': ''}),\n",
       " Document(page_content='GREGOROVITCH\\n AN EGG LAID BY A 200-YEAR-OLD TORTOISE\\nBELONGING TO THE KING OF TONGA\\n THE TAIL OF A 51-YEAR-OLD HORSE IN ARABIA\\n THE WHISKERS OF A 36-YEAR-OLD CAT CALLED\\nCRUMPETS\\n AN OLD FLEA WHICH HAD LIVED ON CRUMPETS\\nFOR 36 YEARS', metadata={'source': 'data/E1. ExngTextOnly.pdf', 'file_path': 'data/E1. ExngTextOnly.pdf', 'page': 0, 'total_pages': 2, 'format': 'PDF 1.7', 'title': '*New Text Document.txt - Notepad', 'author': 'Manoj Kumar M', 'subject': '', 'keywords': '', 'creator': '', 'producer': 'Microsoft: Print To PDF', 'creationDate': \"D:20231225192348+04'00'\", 'modDate': \"D:20231225192348+04'00'\", 'trapped': ''}),\n",
       " Document(page_content='THE TAIL OF A 207-YEAR-OLD GIANT RAT FROM\\nTIBET\\n THE BLACK TEETH OF A 97-YEAR-OLD\\nGRIMALKIN LIVING IN A CAVE ON MOUNT\\nPOPOCATEPETL\\n THE KNUCKLEBONES OF A 700-YEAR-OLD', metadata={'source': 'data/E1. ExngTextOnly.pdf', 'file_path': 'data/E1. ExngTextOnly.pdf', 'page': 0, 'total_pages': 2, 'format': 'PDF 1.7', 'title': '*New Text Document.txt - Notepad', 'author': 'Manoj Kumar M', 'subject': '', 'keywords': '', 'creator': '', 'producer': 'Microsoft: Print To PDF', 'creationDate': \"D:20231225192348+04'00'\", 'modDate': \"D:20231225192348+04'00'\", 'trapped': ''}),\n",
       " Document(page_content='CATTALOO FROM PERU...”\\n“All over the world, Charlie,” Mr Wonka went on\\n“I tracked down very old and ancient animals and\\ntook an important little bit of something from each\\none of them — a hair or an eyebrow or sometimes', metadata={'source': 'data/E1. ExngTextOnly.pdf', 'file_path': 'data/E1. ExngTextOnly.pdf', 'page': 1, 'total_pages': 2, 'format': 'PDF 1.7', 'title': '*New Text Document.txt - Notepad', 'author': 'Manoj Kumar M', 'subject': '', 'keywords': '', 'creator': '', 'producer': 'Microsoft: Print To PDF', 'creationDate': \"D:20231225192348+04'00'\", 'modDate': \"D:20231225192348+04'00'\", 'trapped': ''}),\n",
       " Document(page_content='it was no more than an ounce or two of the jam\\nscraped from between its toes while it was\\nsleeping. I tracked down THE WHISTLE-PIG, THE\\nBOBOLINK, THE SKROCK, THE POLLYFROG, THE\\nGIANT CURLICUE, THE STINGING SLUG AND THE', metadata={'source': 'data/E1. ExngTextOnly.pdf', 'file_path': 'data/E1. ExngTextOnly.pdf', 'page': 1, 'total_pages': 2, 'format': 'PDF 1.7', 'title': '*New Text Document.txt - Notepad', 'author': 'Manoj Kumar M', 'subject': '', 'keywords': '', 'creator': '', 'producer': 'Microsoft: Print To PDF', 'creationDate': \"D:20231225192348+04'00'\", 'modDate': \"D:20231225192348+04'00'\", 'trapped': ''}),\n",
       " Document(page_content='VENOMOUS SQUERKLE who can spit poison right\\ninto your eye from fifty yards away. But there’s\\nno time to tell you about them all now, Charlie.\\nLet me just say quickly that in the end, after lots\\nof boiling and bubbling and mixing and testing in', metadata={'source': 'data/E1. ExngTextOnly.pdf', 'file_path': 'data/E1. ExngTextOnly.pdf', 'page': 1, 'total_pages': 2, 'format': 'PDF 1.7', 'title': '*New Text Document.txt - Notepad', 'author': 'Manoj Kumar M', 'subject': '', 'keywords': '', 'creator': '', 'producer': 'Microsoft: Print To PDF', 'creationDate': \"D:20231225192348+04'00'\", 'modDate': \"D:20231225192348+04'00'\", 'trapped': ''}),\n",
       " Document(page_content='my Inventing Room, I produced one tiny cupful of\\noily black liquid and gave four drops of it to a\\nbrave twenty-year-old Oompa-Loompa volunteer\\nto see what happened.”\\n“What did happen?” Charlie asked.\\n“It was fantastic!” cried Mr Wonka. “The', metadata={'source': 'data/E1. ExngTextOnly.pdf', 'file_path': 'data/E1. ExngTextOnly.pdf', 'page': 1, 'total_pages': 2, 'format': 'PDF 1.7', 'title': '*New Text Document.txt - Notepad', 'author': 'Manoj Kumar M', 'subject': '', 'keywords': '', 'creator': '', 'producer': 'Microsoft: Print To PDF', 'creationDate': \"D:20231225192348+04'00'\", 'modDate': \"D:20231225192348+04'00'\", 'trapped': ''}),\n",
       " Document(page_content='moment he swallowed it, he began wrinkling and\\nshrivelling up all over and his hair started\\ndropping off and his teeth started falling out and,\\nbefore I knew it, he had suddenly become an old\\nfellow of seventy-five! And thus, my dear Charlie,', metadata={'source': 'data/E1. ExngTextOnly.pdf', 'file_path': 'data/E1. ExngTextOnly.pdf', 'page': 1, 'total_pages': 2, 'format': 'PDF 1.7', 'title': '*New Text Document.txt - Notepad', 'author': 'Manoj Kumar M', 'subject': '', 'keywords': '', 'creator': '', 'producer': 'Microsoft: Print To PDF', 'creationDate': \"D:20231225192348+04'00'\", 'modDate': \"D:20231225192348+04'00'\", 'trapped': ''}),\n",
       " Document(page_content='was Vita-Wonk invented!”\\nROALD DAHL\\n[from Charlie and the Great\\nGlass Elevator]', metadata={'source': 'data/E1. ExngTextOnly.pdf', 'file_path': 'data/E1. ExngTextOnly.pdf', 'page': 1, 'total_pages': 2, 'format': 'PDF 1.7', 'title': '*New Text Document.txt - Notepad', 'author': 'Manoj Kumar M', 'subject': '', 'keywords': '', 'creator': '', 'producer': 'Microsoft: Print To PDF', 'creationDate': \"D:20231225192348+04'00'\", 'modDate': \"D:20231225192348+04'00'\", 'trapped': ''})]"
      ]
     },
     "execution_count": 53,
     "metadata": {},
     "output_type": "execute_result"
    }
   ],
   "source": [
    "text_splitter = RecursiveCharacterTextSplitter(\n",
    "    chunk_size=256,\n",
    "    chunk_overlap=0\n",
    ")\n",
    "docs = text_splitter.split_documents(documents)\n",
    "docs"
   ]
  },
  {
   "cell_type": "markdown",
   "metadata": {},
   "source": [
    "### Sparse Vector Encoding\n",
    "We rely on `pinecone-text` client to create sparse vector representations as described in [this](https://docs.pinecone.io/docs/encode-sparse-vectors) section of the documentation.\n",
    "\n",
    "We use the `BM-25 Encoder`, providing our text as a corpus."
   ]
  },
  {
   "cell_type": "markdown",
   "metadata": {},
   "source": [
    "#### Initialization\n",
    "\n",
    "If you want to use the default parameters for BM25Encoder, you can call the default method. The default parameters were fitted on the `MS MARCO passage ranking dataset`."
   ]
  },
  {
   "cell_type": "code",
   "execution_count": 6,
   "metadata": {},
   "outputs": [],
   "source": [
    "# bm25 = BM25Encoder.default()"
   ]
  },
  {
   "cell_type": "markdown",
   "metadata": {},
   "source": [
    "Otherwise fit on your own corpus. BM-25 calculates word frequencies in the corpus."
   ]
  },
  {
   "cell_type": "code",
   "execution_count": 9,
   "metadata": {},
   "outputs": [
    {
     "name": "stderr",
     "output_type": "stream",
     "text": [
      "100%|██████████| 2/2 [00:00<00:00, 68.97it/s]\n"
     ]
    },
    {
     "data": {
      "text/plain": [
       "<pinecone_text.sparse.bm25_encoder.BM25Encoder at 0x2128aa92890>"
      ]
     },
     "execution_count": 9,
     "metadata": {},
     "output_type": "execute_result"
    }
   ],
   "source": [
    "bm25 = BM25Encoder()\n",
    "bm25.fit(corpus=doc_texts)"
   ]
  },
  {
   "cell_type": "markdown",
   "metadata": {},
   "source": [
    "### Dense Vector Encoding\n",
    "Here we may choose to use either an external API embedding service such as `OpenAI` or `PALM`. Or we could use hugging face models using the `SentenceTransformer` class."
   ]
  },
  {
   "cell_type": "code",
   "execution_count": 20,
   "metadata": {},
   "outputs": [],
   "source": [
    "model = SentenceTransformer(\n",
    "    'multi-qa-MiniLM-L6-cos-v1',\n",
    "    device='cpu'\n",
    ")"
   ]
  },
  {
   "cell_type": "markdown",
   "metadata": {},
   "source": [
    "### Upsert Sparse Dense Vectors\n",
    "After we have gotten our sparse and dense embeddings, now it is time to upsert them to pinecone. We follow [this](https://docs.pinecone.io/docs/encode-sparse-vectors) section of the documentation."
   ]
  },
  {
   "cell_type": "markdown",
   "metadata": {},
   "source": [
    "#### Namespace\n",
    "It is good practice to upsert to a specific namespace which we will define. This provides isolation over the different spaces we would want to search."
   ]
  },
  {
   "cell_type": "code",
   "execution_count": 56,
   "metadata": {},
   "outputs": [],
   "source": [
    "pc = Pinecone(\n",
    "    api_key=os.getenv(\"PINECONE_KINYASH\"),\n",
    "    environment='gcp-starter'\n",
    "    )"
   ]
  },
  {
   "cell_type": "code",
   "execution_count": 57,
   "metadata": {},
   "outputs": [],
   "source": [
    "index_name = 'hybrid-test'\n",
    "namespace = 'test-namespace'\n",
    "\n",
    "index = pc.Index(index_name) \n"
   ]
  },
  {
   "cell_type": "code",
   "execution_count": 58,
   "metadata": {},
   "outputs": [
    {
     "name": "stderr",
     "output_type": "stream",
     "text": [
      "100%|██████████| 15/15 [00:08<00:00,  1.76it/s]\n"
     ]
    }
   ],
   "source": [
    "# INCOMPLETE\n",
    "for document in tqdm(docs):\n",
    "    texts = document.page_content\n",
    "\n",
    "    dense_vector = model.encode(texts).tolist()\n",
    "    sparse_vector = bm25.encode_documents(texts)\n",
    "    \n",
    "    records = [{\n",
    "        'id': str(uuid.uuid4().int),\n",
    "        'values': dense_vector,\n",
    "        'sparse_values': sparse_vector,\n",
    "        'metadata': {\n",
    "            'text': texts\n",
    "        }\n",
    "    }]\n",
    "\n",
    "    index.upsert(records, namespace=namespace)"
   ]
  },
  {
   "cell_type": "markdown",
   "metadata": {},
   "source": [
    "### Query Sparse Dense Vectors\n",
    "Once our documents have been succesfully upserted to the vector database, we can then query. We borrow from [this](https://docs.pinecone.io/docs/query-sparse-dense-vectors) part of the documentation."
   ]
  },
  {
   "cell_type": "markdown",
   "metadata": {},
   "source": [
    "#### Query"
   ]
  },
  {
   "cell_type": "code",
   "execution_count": 59,
   "metadata": {},
   "outputs": [],
   "source": [
    "question = \"\"\"\n",
    "Does Mr Willy Wonka invent Wonka\u0002Vite?\n",
    "\"\"\""
   ]
  },
  {
   "cell_type": "markdown",
   "metadata": {},
   "source": [
    "#### Encoding Query\n",
    "In our application, we will encode the actual question/text query into an sparse vector encoding. After all, the very point of this exercise is to query a database."
   ]
  },
  {
   "cell_type": "code",
   "execution_count": 60,
   "metadata": {},
   "outputs": [],
   "source": [
    "sparse_vector = bm25.encode_documents(question)"
   ]
  },
  {
   "cell_type": "code",
   "execution_count": 61,
   "metadata": {},
   "outputs": [],
   "source": [
    "dense_vector = model.encode(question).tolist()"
   ]
  },
  {
   "cell_type": "markdown",
   "metadata": {},
   "source": [
    "#### Querying Pinecone"
   ]
  },
  {
   "cell_type": "code",
   "execution_count": 62,
   "metadata": {},
   "outputs": [],
   "source": [
    "# Check for presence of records before querying\n",
    "if index.describe_index_stats()['total_vector_count'] == 0:\n",
    "    print(\"No Records Found. Query may not retrieve any matches.\")"
   ]
  },
  {
   "cell_type": "code",
   "execution_count": 63,
   "metadata": {},
   "outputs": [],
   "source": [
    "query_response = index.query(\n",
    "    top_k=2,\n",
    "    vector=dense_vector,\n",
    "    sparse_vector=sparse_vector,\n",
    "    include_metadata=True,\n",
    "    namespace=namespace\n",
    ")"
   ]
  },
  {
   "cell_type": "code",
   "execution_count": 64,
   "metadata": {},
   "outputs": [
    {
     "data": {
      "text/plain": [
       "{'matches': [{'id': '165638081014229358505548218128268843283',\n",
       "              'metadata': {'text': 'means he’s got to wait eighty-seven years\\n'\n",
       "                                   'before he can come back.\\n'\n",
       "                                   'Mr Willy Wonka must invent a new thing...\\n'\n",
       "                                   'Mr Wonka said, “So once again I rolled\\n'\n",
       "                                   'up my sleeves and set to work. Once\\n'\n",
       "                                   'again I squeezed my brain, searching for '\n",
       "                                   'the new'},\n",
       "              'score': 2.89365506,\n",
       "              'values': []},\n",
       "             {'id': '202351025601420347215864336724260447892',\n",
       "              'metadata': {'text': 'Mr Willy Wonka begins by inventing Wonka-\\n'\n",
       "                                   'Vite, which makes people younger. But '\n",
       "                                   'Wonka-\\n'\n",
       "                                   'Vite is too strong. So some people '\n",
       "                                   'disappear,\\n'\n",
       "                                   'because their age becomes Minus! One '\n",
       "                                   'person\\n'\n",
       "                                   'actually becomes minus eighty-seven, '\n",
       "                                   'which'},\n",
       "              'score': 2.76637983,\n",
       "              'values': []}],\n",
       " 'namespace': 'test-namespace',\n",
       " 'usage': {'read_units': 6}}"
      ]
     },
     "execution_count": 64,
     "metadata": {},
     "output_type": "execute_result"
    }
   ],
   "source": [
    "query_response"
   ]
  },
  {
   "cell_type": "code",
   "execution_count": 51,
   "metadata": {},
   "outputs": [
    {
     "data": {
      "text/plain": [
       "{}"
      ]
     },
     "execution_count": 51,
     "metadata": {},
     "output_type": "execute_result"
    }
   ],
   "source": [
    "# # Delete the namespace once we are done using it \n",
    "# index.delete(delete_all=True, namespace=namespace)"
   ]
  },
  {
   "cell_type": "code",
   "execution_count": null,
   "metadata": {},
   "outputs": [],
   "source": []
  }
 ],
 "metadata": {
  "kernelspec": {
   "display_name": "documentqa",
   "language": "python",
   "name": "documentqa"
  },
  "language_info": {
   "codemirror_mode": {
    "name": "ipython",
    "version": 3
   },
   "file_extension": ".py",
   "mimetype": "text/x-python",
   "name": "python",
   "nbconvert_exporter": "python",
   "pygments_lexer": "ipython3",
   "version": "3.10.4"
  }
 },
 "nbformat": 4,
 "nbformat_minor": 2
}
