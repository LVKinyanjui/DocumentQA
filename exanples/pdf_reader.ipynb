{
 "cells": [
  {
   "cell_type": "code",
   "execution_count": 1,
   "metadata": {},
   "outputs": [],
   "source": [
    "from langchain.document_loaders import PyMuPDFLoader"
   ]
  },
  {
   "cell_type": "code",
   "execution_count": 2,
   "metadata": {},
   "outputs": [],
   "source": [
    "loader = PyMuPDFLoader(\"../data/E1. ExngTextOnly.pdf\")\n",
    "documents = loader.load()"
   ]
  },
  {
   "cell_type": "code",
   "execution_count": 4,
   "metadata": {},
   "outputs": [
    {
     "data": {
      "text/plain": [
       "'Who are the oldest people you know? What are the\\noldest things you have (i) in your house, (ii) in your city,\\ntown or village? How old are they?\\nHave you ever wished that you were older? Have\\nyou wished that you could grow up in a hurry?\\nMr Willy Wonka begins by inventing Wonka-\\nVite, which makes people younger. But Wonka-\\nVite is too strong. So some people disappear,\\nbecause their age becomes Minus! One person\\nactually becomes minus eighty-seven, which\\nmeans he’s got to wait eighty-seven years\\nbefore he can come back.\\nMr Willy Wonka must invent a new thing...\\nMr Wonka said, “So once again I rolled\\nup my sleeves and set to work. Once\\nagain I squeezed my brain, searching for the new\\nrecipe... I had to create age... to make people old...\\nold, older, oldest... ‘Ha-ha!’ I cried, for now the\\nideas were beginning to come. ‘What is the oldest\\nliving thing in the world? What lives longer than\\nanything else?’ ”\\n“A tree,” Charlie said.\\n“Right you are, Charlie! But what kind of a\\ntree? Not the Douglas fir. Not the oak. Not the\\ncedar. No, no, my boy. It is a tree called the\\nBristlecone pine that grows upon the slopes of\\nWheeler Peak in Nevada, U.S.A. You can find\\nBristlecone Pines on Wheeler Peak today that\\nare over 4000 years old! This is fact, Charlie. Ask\\nany dendrochronologist you like (and look that\\nword up in the dictionary when you get home,\\nwill you please?). So that started me off. I\\njumped into the Great Glass Elevator and\\nrushed all over the world collecting special items\\nfrom the oldest living things...\\n A PINT OF SAP FROM A 4000-YEAR-OLD\\nBRISTLECONE PINE\\n THE TOE-NAIL CLIPPINGS FROM A 168-YEAR-OLD\\nRUSSIAN FARMER CALLED PETROVITCH\\nGREGOROVITCH\\n AN EGG LAID BY A 200-YEAR-OLD TORTOISE\\nBELONGING TO THE KING OF TONGA\\n THE TAIL OF A 51-YEAR-OLD HORSE IN ARABIA\\n THE WHISKERS OF A 36-YEAR-OLD CAT CALLED\\nCRUMPETS\\n AN OLD FLEA WHICH HAD LIVED ON CRUMPETS\\nFOR 36 YEARS\\n THE TAIL OF A 207-YEAR-OLD GIANT RAT FROM\\nTIBET\\n THE BLACK TEETH OF A 97-YEAR-OLD\\nGRIMALKIN LIVING IN A CAVE ON MOUNT\\nPOPOCATEPETL\\n THE KNUCKLEBONES OF A 700-YEAR-OLD\\n'"
      ]
     },
     "execution_count": 4,
     "metadata": {},
     "output_type": "execute_result"
    }
   ],
   "source": [
    "documents[0].page_content"
   ]
  },
  {
   "cell_type": "code",
   "execution_count": null,
   "metadata": {},
   "outputs": [],
   "source": []
  }
 ],
 "metadata": {
  "kernelspec": {
   "display_name": "documentqa",
   "language": "python",
   "name": "documentqa"
  },
  "language_info": {
   "codemirror_mode": {
    "name": "ipython",
    "version": 3
   },
   "file_extension": ".py",
   "mimetype": "text/x-python",
   "name": "python",
   "nbconvert_exporter": "python",
   "pygments_lexer": "ipython3",
   "version": "3.10.4"
  }
 },
 "nbformat": 4,
 "nbformat_minor": 2
}
