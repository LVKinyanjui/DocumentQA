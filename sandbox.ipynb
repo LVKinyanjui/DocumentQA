{
 "cells": [
  {
   "cell_type": "code",
   "execution_count": 1,
   "metadata": {},
   "outputs": [
    {
     "name": "stderr",
     "output_type": "stream",
     "text": [
      "f:\\Jupyter\\Upwork\\DocumentQA\\DocumentQA\\venv\\lib\\site-packages\\tqdm\\auto.py:21: TqdmWarning: IProgress not found. Please update jupyter and ipywidgets. See https://ipywidgets.readthedocs.io/en/stable/user_install.html\n",
      "  from .autonotebook import tqdm as notebook_tqdm\n"
     ]
    }
   ],
   "source": [
    "import gradio as gr\n",
    "from auxiliaries_beta import (\n",
    "    embed_upsert, summarize, ask_question, answer_question\n",
    ")"
   ]
  },
  {
   "cell_type": "code",
   "execution_count": 2,
   "metadata": {},
   "outputs": [],
   "source": [
    "def save_chats(history):\n",
    "    with open(\"chat_history.txt\", \"w\", encoding='utf-8') as f:\n",
    "        for line in history:\n",
    "            f.writelines(line)\n",
    "            f.write('\\n\\n')"
   ]
  },
  {
   "cell_type": "code",
   "execution_count": 4,
   "metadata": {},
   "outputs": [],
   "source": [
    "chatbot_ask = gr.Chatbot(\n",
    "    value=[[None, \"Hi. Ask me a question about the document you uploaded.\"]],\n",
    "    )\n",
    "chatbot_answer = gr.Chatbot(\n",
    "    value=[[None, \"Hi. Let me ask you a question about the document you uploaded.\"]],\n",
    ")\n",
    "\n",
    "namespace = gr.Textbox(\n",
    "    label=\"Namespace (Pinecone)\", \n",
    "    placeholder=\"(Optional) Display or Enter Pinecone Document Namespace\",\n",
    "    visible=False\n",
    ")\n",
    "\n",
    "with gr.Blocks() as demo:\n",
    "    with gr.Tab(\"Upload Document\"):\n",
    "        file = gr.File()\n",
    "        feedback = gr.Markdown()\n",
    "\n",
    "        file.change(fn=embed_upsert, inputs=file, outputs=[feedback, namespace])\n",
    "\n",
    "    with gr.Tab(\"Ask Questions\"):\n",
    "\n",
    "        gr.ChatInterface(\n",
    "            fn=ask_question, \n",
    "            additional_inputs=[namespace],\n",
    "            chatbot=chatbot_ask\n",
    "        )\n",
    "\n",
    "        with gr.Accordion(\"Document Summary\"):\n",
    "            summary = gr.Markdown()\n",
    "            button = gr.Button(\"Summarize\")\n",
    "\n",
    "\n",
    "        button.click(fn=summarize, inputs=file, outputs=summary)\n",
    "\n",
    "    with gr.Tab(\"Answer Questions\"):\n",
    "        gr.ChatInterface(\n",
    "            fn=answer_question, \n",
    "            additional_inputs=[namespace],\n",
    "            chatbot=chatbot_answer\n",
    "        )\n",
    "\n",
    "        with gr.Accordion(\"Document Summary\"):\n",
    "            summary = gr.Markdown()\n",
    "            button = gr.Button(\"Summarize\")\n",
    "\n",
    "\n",
    "        button.click(fn=summarize, inputs=file, outputs=summary)"
   ]
  },
  {
   "cell_type": "code",
   "execution_count": null,
   "metadata": {},
   "outputs": [
    {
     "name": "stdout",
     "output_type": "stream",
     "text": [
      "Running on local URL:  http://127.0.0.1:7860\n",
      "\n",
      "To create a public link, set `share=True` in `launch()`.\n"
     ]
    },
    {
     "data": {
      "text/html": [
       "<div><iframe src=\"http://127.0.0.1:7860/\" width=\"100%\" height=\"500\" allow=\"autoplay; camera; microphone; clipboard-read; clipboard-write;\" frameborder=\"0\" allowfullscreen></iframe></div>"
      ],
      "text/plain": [
       "<IPython.core.display.HTML object>"
      ]
     },
     "metadata": {},
     "output_type": "display_data"
    },
    {
     "data": {
      "text/plain": []
     },
     "execution_count": 5,
     "metadata": {},
     "output_type": "execute_result"
    },
    {
     "name": "stderr",
     "output_type": "stream",
     "text": [
      "100%|██████████| 15/15 [00:00<00:00, 394.72it/s]\n"
     ]
    },
    {
     "name": "stdout",
     "output_type": "stream",
     "text": [
      "Execution time in seconds: 0.6519994735717773\n",
      "The length of our dense vector is: 384\n"
     ]
    },
    {
     "name": "stderr",
     "output_type": "stream",
     "text": [
      "f:\\Jupyter\\Upwork\\DocumentQA\\DocumentQA\\venv\\lib\\site-packages\\langchain_core\\_api\\deprecation.py:117: LangChainDeprecationWarning: The function `__call__` was deprecated in LangChain 0.1.0 and will be removed in 0.2.0. Use invoke instead.\n",
      "  warn_deprecated(\n"
     ]
    },
    {
     "name": "stdout",
     "output_type": "stream",
     "text": [
      "The length of our dense vector is: 384\n"
     ]
    }
   ],
   "source": [
    "demo.launch()"
   ]
  },
  {
   "cell_type": "code",
   "execution_count": null,
   "metadata": {},
   "outputs": [],
   "source": []
  }
 ],
 "metadata": {
  "kernelspec": {
   "display_name": "documentqa",
   "language": "python",
   "name": "documentqa"
  },
  "language_info": {
   "codemirror_mode": {
    "name": "ipython",
    "version": 3
   },
   "file_extension": ".py",
   "mimetype": "text/x-python",
   "name": "python",
   "nbconvert_exporter": "python",
   "pygments_lexer": "ipython3",
   "version": "3.10.4"
  }
 },
 "nbformat": 4,
 "nbformat_minor": 2
}
