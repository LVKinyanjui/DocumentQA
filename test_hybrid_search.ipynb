{
 "cells": [
  {
   "cell_type": "code",
   "execution_count": 1,
   "metadata": {},
   "outputs": [
    {
     "name": "stderr",
     "output_type": "stream",
     "text": [
      "f:\\Jupyter\\Upwork\\DocumentQA\\DocumentQA\\venv\\lib\\site-packages\\pinecone\\data\\index.py:1: TqdmWarning: IProgress not found. Please update jupyter and ipywidgets. See https://ipywidgets.readthedocs.io/en/stable/user_install.html\n",
      "  from tqdm.autonotebook import tqdm\n"
     ]
    }
   ],
   "source": [
    "from pinecone import Pinecone, PodSpec \n",
    "from langchain.document_loaders import PyMuPDFLoader\n",
    "\n",
    "\n",
    "from IPython.display import Markdown, display"
   ]
  },
  {
   "cell_type": "code",
   "execution_count": 2,
   "metadata": {},
   "outputs": [],
   "source": [
    "\n",
    "from hybrid_pinecone import HybridPinecone"
   ]
  },
  {
   "cell_type": "markdown",
   "metadata": {},
   "source": [
    "### Load Data\n",
    "We use langchain PDF loaders to read pdfs. "
   ]
  },
  {
   "cell_type": "code",
   "execution_count": 10,
   "metadata": {},
   "outputs": [],
   "source": [
    "filepath = \"data/E1. ExngTextOnly.pdf\"\n",
    "loader = PyMuPDFLoader(filepath)\n",
    "documents = loader.load()"
   ]
  },
  {
   "cell_type": "code",
   "execution_count": 11,
   "metadata": {},
   "outputs": [],
   "source": [
    "contexts = [document.page_content for document in documents]"
   ]
  },
  {
   "cell_type": "markdown",
   "metadata": {},
   "source": [
    "### Sparse and Dense Embeddings"
   ]
  },
  {
   "cell_type": "code",
   "execution_count": 8,
   "metadata": {},
   "outputs": [],
   "source": [
    "from tqdm.auto import tqdm\n",
    "\n",
    "from transformers import BertTokenizerFast              # Sparse Embeddings\n",
    "from sentence_transformers import SentenceTransformer   # Dense Embeddings\n",
    "from collections import Counter\n",
    "# SPARSE EMBEDDINGS\n",
    "\n",
    "# load bert tokenizer from huggingface\n",
    "\n",
    "tokenizer = BertTokenizerFast.from_pretrained(\n",
    "    'bert-base-uncased'\n",
    ")\n",
    "\n",
    "inputs = tokenizer(\n",
    "    contexts[0], padding=True, truncation=True,\n",
    "    max_length=512\n",
    ")\n",
    "inputs.keys()\n",
    "\n",
    "\n",
    "# extract the input ids\n",
    "input_ids = inputs['input_ids']\n",
    "\n",
    "# convert the input_ids list to a dictionary of key to frequency values\n",
    "sparse_vec = dict(Counter(input_ids))\n",
    "sparse_vec\n",
    "\n",
    "def build_dict(input_batch):\n",
    " # store a batch of sparse embeddings\n",
    "   sparse_emb = []\n",
    "   # iterate through input batch\n",
    "   for token_ids in input_batch:\n",
    "       indices = []\n",
    "       values = []\n",
    "       # convert the input_ids list to a dictionary of key to frequency values\n",
    "       d = dict(Counter(token_ids))\n",
    "       for idx in d:\n",
    "            indices.append(idx)\n",
    "            values.append(float(d[idx]))                        # Extremely important to cast values as float\n",
    "                                                                # Otherwise you get: SparseValuesMissingKeysError: Missing required keys in data in column `sparse_values`.\n",
    "       sparse_emb.append({'indices': indices, 'values': values})\n",
    "   # return sparse_emb list\n",
    "   return sparse_emb\n",
    "\n",
    "def generate_sparse_vectors(context_batch):\n",
    "    \"\"\"\n",
    "    create batch of input_ids required by pinecone for sparse vector sotrage\n",
    "    \"\"\"\n",
    "    inputs = tokenizer(\n",
    "            context_batch, padding=True,\n",
    "            truncation=True,\n",
    "            max_length=512\n",
    "    )['input_ids']\n",
    "    # create sparse dictionaries\n",
    "    sparse_embeds = build_dict(inputs)\n",
    "    return sparse_embeds"
   ]
  },
  {
   "cell_type": "code",
   "execution_count": 15,
   "metadata": {},
   "outputs": [
    {
     "data": {
      "text/plain": [
       "SentenceTransformer(\n",
       "  (0): Transformer({'max_seq_length': 512, 'do_lower_case': False}) with Transformer model: BertModel \n",
       "  (1): Pooling({'word_embedding_dimension': 384, 'pooling_mode_cls_token': False, 'pooling_mode_mean_tokens': True, 'pooling_mode_max_tokens': False, 'pooling_mode_mean_sqrt_len_tokens': False})\n",
       "  (2): Normalize()\n",
       ")"
      ]
     },
     "execution_count": 15,
     "metadata": {},
     "output_type": "execute_result"
    }
   ],
   "source": [
    "# DENSE EMBEDDINGS\n",
    "\n",
    "# load a sentence transformer model from huggingface\n",
    "model = SentenceTransformer(\n",
    "    'multi-qa-MiniLM-L6-cos-v1',\n",
    "    device='cpu'                    # or cuda, if available\n",
    ")\n",
    "model"
   ]
  },
  {
   "cell_type": "markdown",
   "metadata": {},
   "source": [
    "### Initialize Vector Database"
   ]
  },
  {
   "cell_type": "code",
   "execution_count": 24,
   "metadata": {},
   "outputs": [],
   "source": [
    "pc = HybridPinecone(\n",
    "    api_key = \"3c9fd500-de4d-40ed-8c77-12302b71e8ce\",  # app.pinecone.io\n",
    "    environment = \"gcp-starter\"\n",
    ")"
   ]
  },
  {
   "cell_type": "code",
   "execution_count": 3,
   "metadata": {},
   "outputs": [],
   "source": [
    "index_name = \"hybrid-test\""
   ]
  },
  {
   "cell_type": "code",
   "execution_count": 27,
   "metadata": {},
   "outputs": [
    {
     "data": {
      "text/plain": [
       "<Response [201]>"
      ]
     },
     "execution_count": 27,
     "metadata": {},
     "output_type": "execute_result"
    }
   ],
   "source": [
    "\n",
    "\n",
    "# create the index\n",
    "pc.create_index(\n",
    "   index_name = index_name,\n",
    "   dimension = 384,  # dimensionality of dense model\n",
    "   pod_type='p1',\n",
    "   metric = \"dotproduct\",\n",
    ")"
   ]
  },
  {
   "cell_type": "code",
   "execution_count": 4,
   "metadata": {},
   "outputs": [],
   "source": [
    "pc = Pinecone(\n",
    "    api_key = \"3c9fd500-de4d-40ed-8c77-12302b71e8ce\",  # app.pinecone.io\n",
    "    environment = \"gcp-starter\"\n",
    ")\n",
    "index = pc.Index(name=index_name)"
   ]
  },
  {
   "cell_type": "code",
   "execution_count": 32,
   "metadata": {},
   "outputs": [
    {
     "name": "stderr",
     "output_type": "stream",
     "text": [
      "  0%|          | 0/1 [00:00<?, ?it/s]"
     ]
    },
    {
     "name": "stderr",
     "output_type": "stream",
     "text": [
      "100%|██████████| 1/1 [00:03<00:00,  3.61s/it]\n"
     ]
    },
    {
     "data": {
      "text/plain": [
       "{'dimension': 384,\n",
       " 'index_fullness': 0.0,\n",
       " 'namespaces': {},\n",
       " 'total_vector_count': 0}"
      ]
     },
     "execution_count": 32,
     "metadata": {},
     "output_type": "execute_result"
    }
   ],
   "source": [
    "batch_size = 50\n",
    "\n",
    "for i in tqdm(range(0, len(contexts), batch_size)):\n",
    "    # find end of batch\n",
    "    i_end = min(i+batch_size, len(contexts))\n",
    "    # extract batch\n",
    "    context_batch = contexts[i:i_end]\n",
    "    # create unique IDs\n",
    "    ids = [str(x) for x in range(i, i_end)]\n",
    "    # add context passages as metadata\n",
    "    meta = [{'context': context} for context in context_batch]\n",
    "    # create dense vectors\n",
    "    dense_embeds = model.encode(context_batch).tolist()\n",
    "    # create sparse vectors\n",
    "    sparse_embeds = generate_sparse_vectors(context_batch)\n",
    "\n",
    "    vectors = []\n",
    "    # loop through the data and create dictionaries for uploading documents to pinecone index\n",
    "    for _id, sparse, dense, metadata in zip(ids, sparse_embeds, dense_embeds, meta):\n",
    "        vectors.append({\n",
    "            'id': _id,\n",
    "            'sparse_values': sparse,\n",
    "            'values': dense,\n",
    "            'metadata': metadata\n",
    "        })\n",
    "\n",
    "    # upload the documents to the new hybrid index\n",
    "    index.upsert(vectors)\n",
    "\n",
    "# show index description after uploading the documents\n",
    "index.describe_index_stats()"
   ]
  },
  {
   "cell_type": "code",
   "execution_count": 37,
   "metadata": {},
   "outputs": [],
   "source": [
    "def hybrid_scale(dense, sparse, alpha: float):\n",
    "    # check alpha value is in range\n",
    "    if alpha < 0 or alpha > 1:\n",
    "        raise ValueError(\"Alpha must be between 0 and 1\")\n",
    "    # scale sparse and dense vectors to create hybrid search vecs\n",
    "    hsparse = {\n",
    "        'indices': sparse['indices'],\n",
    "        'values':  [v * (1 - alpha) for v in sparse['values']]\n",
    "    }\n",
    "    hdense = [v * alpha for v in dense]\n",
    "    return hdense, hsparse\n",
    "\n",
    "\n",
    "def hybrid_query(question, top_k, alpha):\n",
    "   # convert the question into a sparse vector\n",
    "   sparse_vec = generate_sparse_vectors([question])[0]\n",
    "   # convert the question into a dense vector\n",
    "   dense_vec = model.encode([question]).tolist()[0]\n",
    "   # scale alpha with hybrid_scale\n",
    "   dense_vec, sparse_vec = hybrid_scale(\n",
    "      dense_vec, sparse_vec, alpha\n",
    "   )\n",
    "   # query pinecone with the query parameters\n",
    "   result = index.query(\n",
    "      top_k=top_k,\n",
    "      vector=dense_vec,\n",
    "      sparse_vector=sparse_vec,\n",
    "      include_metadata=True\n",
    "   )\n",
    "   # return search results as json\n",
    "   return result"
   ]
  },
  {
   "cell_type": "code",
   "execution_count": 38,
   "metadata": {},
   "outputs": [
    {
     "data": {
      "text/plain": [
       "{'matches': [{'id': '0',\n",
       "              'metadata': {'context': 'Who are the oldest people you know? '\n",
       "                                      'What are the\\n'\n",
       "                                      'oldest things you have (i) in your '\n",
       "                                      'house, (ii) in your city,\\n'\n",
       "                                      'town or village? How old are they?\\n'\n",
       "                                      'Have you ever wished that you were '\n",
       "                                      'older? Have\\n'\n",
       "                                      'you wished that you could grow up in a '\n",
       "                                      'hurry?\\n'\n",
       "                                      'Mr Willy Wonka begins by inventing '\n",
       "                                      'Wonka-\\n'\n",
       "                                      'Vite, which makes people younger. But '\n",
       "                                      'Wonka-\\n'\n",
       "                                      'Vite is too strong. So some people '\n",
       "                                      'disappear,\\n'\n",
       "                                      'because their age becomes Minus! One '\n",
       "                                      'person\\n'\n",
       "                                      'actually becomes minus eighty-seven, '\n",
       "                                      'which\\n'\n",
       "                                      'means he’s got to wait eighty-seven '\n",
       "                                      'years\\n'\n",
       "                                      'before he can come back.\\n'\n",
       "                                      'Mr Willy Wonka must invent a new '\n",
       "                                      'thing...\\n'\n",
       "                                      'Mr Wonka said, “So once again I rolled\\n'\n",
       "                                      'up my sleeves and set to work. Once\\n'\n",
       "                                      'again I squeezed my brain, searching '\n",
       "                                      'for the new\\n'\n",
       "                                      'recipe... I had to create age... to '\n",
       "                                      'make people old...\\n'\n",
       "                                      'old, older, oldest... ‘Ha-ha!’ I cried, '\n",
       "                                      'for now the\\n'\n",
       "                                      'ideas were beginning to come. ‘What is '\n",
       "                                      'the oldest\\n'\n",
       "                                      'living thing in the world? What lives '\n",
       "                                      'longer than\\n'\n",
       "                                      'anything else?’ ”\\n'\n",
       "                                      '“A tree,” Charlie said.\\n'\n",
       "                                      '“Right you are, Charlie! But what kind '\n",
       "                                      'of a\\n'\n",
       "                                      'tree? Not the Douglas fir. Not the oak. '\n",
       "                                      'Not the\\n'\n",
       "                                      'cedar. No, no, my boy. It is a tree '\n",
       "                                      'called the\\n'\n",
       "                                      'Bristlecone pine that grows upon the '\n",
       "                                      'slopes of\\n'\n",
       "                                      'Wheeler Peak in Nevada, U.S.A. You can '\n",
       "                                      'find\\n'\n",
       "                                      'Bristlecone Pines on Wheeler Peak today '\n",
       "                                      'that\\n'\n",
       "                                      'are over 4000 years old! This is fact, '\n",
       "                                      'Charlie. Ask\\n'\n",
       "                                      'any dendrochronologist you like (and '\n",
       "                                      'look that\\n'\n",
       "                                      'word up in the dictionary when you get '\n",
       "                                      'home,\\n'\n",
       "                                      'will you please?). So that started me '\n",
       "                                      'off. I\\n'\n",
       "                                      'jumped into the Great Glass Elevator '\n",
       "                                      'and\\n'\n",
       "                                      'rushed all over the world collecting '\n",
       "                                      'special items\\n'\n",
       "                                      'from the oldest living things...\\n'\n",
       "                                      ' A PINT OF SAP FROM A 4000-YEAR-OLD\\n'\n",
       "                                      'BRISTLECONE PINE\\n'\n",
       "                                      ' THE TOE-NAIL CLIPPINGS FROM A '\n",
       "                                      '168-YEAR-OLD\\n'\n",
       "                                      'RUSSIAN FARMER CALLED PETROVITCH\\n'\n",
       "                                      'GREGOROVITCH\\n'\n",
       "                                      ' AN EGG LAID BY A 200-YEAR-OLD '\n",
       "                                      'TORTOISE\\n'\n",
       "                                      'BELONGING TO THE KING OF TONGA\\n'\n",
       "                                      ' THE TAIL OF A 51-YEAR-OLD HORSE IN '\n",
       "                                      'ARABIA\\n'\n",
       "                                      ' THE WHISKERS OF A 36-YEAR-OLD CAT '\n",
       "                                      'CALLED\\n'\n",
       "                                      'CRUMPETS\\n'\n",
       "                                      ' AN OLD FLEA WHICH HAD LIVED ON '\n",
       "                                      'CRUMPETS\\n'\n",
       "                                      'FOR 36 YEARS\\n'\n",
       "                                      ' THE TAIL OF A 207-YEAR-OLD GIANT RAT '\n",
       "                                      'FROM\\n'\n",
       "                                      'TIBET\\n'\n",
       "                                      ' THE BLACK TEETH OF A 97-YEAR-OLD\\n'\n",
       "                                      'GRIMALKIN LIVING IN A CAVE ON MOUNT\\n'\n",
       "                                      'POPOCATEPETL\\n'\n",
       "                                      ' THE KNUCKLEBONES OF A 700-YEAR-OLD\\n'},\n",
       "              'score': 16.2882023,\n",
       "              'values': []},\n",
       "             {'id': '1',\n",
       "              'metadata': {'context': 'CATTALOO FROM PERU...”\\n'\n",
       "                                      '“All over the world, Charlie,” Mr Wonka '\n",
       "                                      'went on\\n'\n",
       "                                      '“I tracked down very old and ancient '\n",
       "                                      'animals and\\n'\n",
       "                                      'took an important little bit of '\n",
       "                                      'something from each\\n'\n",
       "                                      'one of them — a hair or an eyebrow or '\n",
       "                                      'sometimes\\n'\n",
       "                                      'it was no more than an ounce or two of '\n",
       "                                      'the jam\\n'\n",
       "                                      'scraped from between its toes while it '\n",
       "                                      'was\\n'\n",
       "                                      'sleeping. I tracked down THE '\n",
       "                                      'WHISTLE-PIG, THE\\n'\n",
       "                                      'BOBOLINK, THE SKROCK, THE POLLYFROG, '\n",
       "                                      'THE\\n'\n",
       "                                      'GIANT CURLICUE, THE STINGING SLUG AND '\n",
       "                                      'THE\\n'\n",
       "                                      'VENOMOUS SQUERKLE who can spit poison '\n",
       "                                      'right\\n'\n",
       "                                      'into your eye from fifty yards away. '\n",
       "                                      'But there’s\\n'\n",
       "                                      'no time to tell you about them all now, '\n",
       "                                      'Charlie.\\n'\n",
       "                                      'Let me just say quickly that in the '\n",
       "                                      'end, after lots\\n'\n",
       "                                      'of boiling and bubbling and mixing and '\n",
       "                                      'testing in\\n'\n",
       "                                      'my Inventing Room, I produced one tiny '\n",
       "                                      'cupful of\\n'\n",
       "                                      'oily black liquid and gave four drops '\n",
       "                                      'of it to a\\n'\n",
       "                                      'brave twenty-year-old Oompa-Loompa '\n",
       "                                      'volunteer\\n'\n",
       "                                      'to see what happened.”\\n'\n",
       "                                      '“What did happen?” Charlie asked.\\n'\n",
       "                                      '“It was fantastic!” cried Mr Wonka. '\n",
       "                                      '“The\\n'\n",
       "                                      'moment he swallowed it, he began '\n",
       "                                      'wrinkling and\\n'\n",
       "                                      'shrivelling up all over and his hair '\n",
       "                                      'started\\n'\n",
       "                                      'dropping off and his teeth started '\n",
       "                                      'falling out and,\\n'\n",
       "                                      'before I knew it, he had suddenly '\n",
       "                                      'become an old\\n'\n",
       "                                      'fellow of seventy-five! And thus, my '\n",
       "                                      'dear Charlie,\\n'\n",
       "                                      'was Vita-Wonk invented!”\\n'\n",
       "                                      'ROALD DAHL\\n'\n",
       "                                      '[from Charlie and the Great\\n'\n",
       "                                      'Glass Elevator]\\n'},\n",
       "              'score': 7.99711895,\n",
       "              'values': []}],\n",
       " 'namespace': '',\n",
       " 'usage': {'read_units': 6}}"
      ]
     },
     "execution_count": 38,
     "metadata": {},
     "output_type": "execute_result"
    }
   ],
   "source": [
    "question = \"What did willy wonka do with vitawonk?\"\n",
    "\n",
    "# %% [markdown]\n",
    "# First, we will do a pure semantic search by setting the alpha value as 1.\n",
    "\n",
    "# %%\n",
    "hybrid_query(question, top_k=3, alpha=0.4)"
   ]
  },
  {
   "cell_type": "code",
   "execution_count": null,
   "metadata": {},
   "outputs": [],
   "source": []
  }
 ],
 "metadata": {
  "kernelspec": {
   "display_name": "documentqa",
   "language": "python",
   "name": "documentqa"
  },
  "language_info": {
   "codemirror_mode": {
    "name": "ipython",
    "version": 3
   },
   "file_extension": ".py",
   "mimetype": "text/x-python",
   "name": "python",
   "nbconvert_exporter": "python",
   "pygments_lexer": "ipython3",
   "version": "3.10.4"
  }
 },
 "nbformat": 4,
 "nbformat_minor": 2
}
