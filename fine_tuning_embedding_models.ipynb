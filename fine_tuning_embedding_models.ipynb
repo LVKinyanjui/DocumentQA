{
 "cells": [
  {
   "cell_type": "markdown",
   "metadata": {},
   "source": [
    "To improve the performance of our embedding models (More formally known as `sentence transformers`) we will need to train them on our custom data. This has been made easy through following their [documentation](https://www.sbert.net/docs/training/overview.html)."
   ]
  },
  {
   "cell_type": "code",
   "execution_count": null,
   "metadata": {},
   "outputs": [],
   "source": []
  }
 ],
 "metadata": {
  "language_info": {
   "name": "python"
  }
 },
 "nbformat": 4,
 "nbformat_minor": 2
}
