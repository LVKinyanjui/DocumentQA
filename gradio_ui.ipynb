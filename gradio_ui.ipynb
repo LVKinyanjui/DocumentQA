{
 "cells": [
  {
   "cell_type": "markdown",
   "metadata": {},
   "source": [
    "<h1 align=center> Possible Fixes </h1>\n",
    "\n",
    "1. Refine vectorstore integration. Retrieval is very weak. It isnt extracting the documents it is meant to.\n",
    "    - Redefine similarity search using [docs](https://python.langchain.com/docs/integrations/vectorstores/opensearch#maximum-marginal-relevance-search-mmr)\n",
    "\n",
    "2. Use a different chain type in RetrievalQA,\n",
    "    either map_reduce"
   ]
  },
  {
   "cell_type": "code",
   "execution_count": 1,
   "metadata": {},
   "outputs": [
    {
     "name": "stderr",
     "output_type": "stream",
     "text": [
      "c:\\Users\\USER\\AppData\\Local\\Programs\\Python\\Python310\\lib\\site-packages\\pinecone\\index.py:4: TqdmExperimentalWarning: Using `tqdm.autonotebook.tqdm` in notebook mode. Use `tqdm.tqdm` instead to force console mode (e.g. in jupyter console)\n",
      "  from tqdm.autonotebook import tqdm\n"
     ]
    }
   ],
   "source": [
    "import os\n",
    "import uuid\n",
    "import pinecone\n",
    "import gradio as gr\n",
    "import google.generativeai as palm\n",
    "\n",
    "from langchain.chains import RetrievalQA\n",
    "from langchain.llms import GooglePalm\n",
    "from langchain.document_loaders import PyPDFLoader\n",
    "from langchain.embeddings import GooglePalmEmbeddings\n",
    "from langchain.vectorstores.pinecone import Pinecone"
   ]
  },
  {
   "cell_type": "markdown",
   "metadata": {},
   "source": [
    "### Helper Functions"
   ]
  },
  {
   "cell_type": "code",
   "execution_count": 2,
   "metadata": {},
   "outputs": [],
   "source": [
    "def get_completion(prompt):\n",
    "    palm.configure(api_key=os.getenv(\"PALM_API_KEY\"))\n",
    "    res = palm.chat(prompt=prompt)\n",
    "    return res.last"
   ]
  },
  {
   "cell_type": "code",
   "execution_count": 3,
   "metadata": {},
   "outputs": [],
   "source": [
    "\n",
    "def read_txt(file):\n",
    "    with open(file.name, encoding='utf-8') as f:\n",
    "        return f.read()"
   ]
  },
  {
   "cell_type": "code",
   "execution_count": 4,
   "metadata": {},
   "outputs": [],
   "source": [
    "def read_pdf(file):\n",
    "    loader = PyPDFLoader(file)\n",
    "    pages = loader.load_and_split()\n",
    "    \n",
    "    text = [page.page_content for page in pages]\n",
    "    return text[0]"
   ]
  },
  {
   "cell_type": "code",
   "execution_count": 5,
   "metadata": {},
   "outputs": [],
   "source": [
    "def vectorize(docs, query, temperature=0.7, chain_type='stuff', verbose=False,\n",
    "              google_api_key=os.getenv(\"PALM_API_KEY\"), pinecone_api_key=os.getenv(\"PINECONE_API_KEY\")):\n",
    "    \"\"\"\n",
    "    Integrate with pinecone vector store and wllow querying.\n",
    "    \"\"\"\n",
    "\n",
    "    pinecone.init(\n",
    "        api_key=pinecone_api_key,\n",
    "        environment='gcp-starter'\n",
    "    )\n",
    "\n",
    "    index_name = pinecone.list_indexes()[0]\n",
    "    index = pinecone.Index(index_name)\n",
    "    index.delete(delete_all=True, namespace='')              # Clear the default namespace everytime for new documents\n",
    "\n",
    "    embeddings = GooglePalmEmbeddings(google_api_key=google_api_key)\n",
    "\n",
    "    docsearch = Pinecone.from_texts(docs, embeddings, index_name=index_name)\n",
    "    docs = docsearch.similarity_search(query)\n",
    "    doc_text = [doc.page_content for doc in docs][0]\n",
    "\n",
    "    retriever = docsearch.as_retriever()\n",
    "    \n",
    "    llm = GooglePalm(google_api_key=google_api_key, temperature=temperature)\n",
    "    \n",
    "    vector_query = RetrievalQA.from_chain_type(\n",
    "        llm=llm, \n",
    "        chain_type=chain_type, \n",
    "        retriever=retriever, \n",
    "        verbose=True\n",
    "    )\n",
    "\n",
    "    templated_query = f\"\"\"\n",
    "        You are a consultant \\\n",
    "        Your job is to ingest data from documents and come up with concise ways of expressing it \\\n",
    "        In other words, you will summarize documents for audiences \\\n",
    "        You will target a novive audience who may not have prior knowledge of the text \\\n",
    "        Whenever you do not have enough information to summarize say explicitly:\n",
    "            \"I do not have enough information to summarize\"\n",
    "        Otherwise provide a well annotated summary \\\n",
    "        If there are points use numbered or bulleted lists \\\n",
    "        Highlight important points \\\n",
    "        Provide an introduction and conclusion whenever necessary \\\n",
    "        \n",
    "        You are provided with the user query below:\n",
    "\n",
    "        {query}\n",
    "\n",
    "\n",
    "    \"\"\"\n",
    "    res = vector_query.run(templated_query)\n",
    "\n",
    "    if verbose:\n",
    "        print(doc_text)\n",
    "        print(index.describe_index_stats())\n",
    "\n",
    "    return res"
   ]
  },
  {
   "cell_type": "markdown",
   "metadata": {},
   "source": [
    "### Workflow"
   ]
  },
  {
   "cell_type": "code",
   "execution_count": 6,
   "metadata": {},
   "outputs": [],
   "source": [
    "def main(query, file):\n",
    "    \"\"\"\n",
    "    Wrapper for all functions in the backend that server the gradio ui frontend\n",
    "    \"\"\"\n",
    "\n",
    "    docs = read_pdf(file)\n",
    "\n",
    "    res = vectorize(docs, query, verbose=True)\n",
    "    \n",
    "    return res"
   ]
  },
  {
   "cell_type": "code",
   "execution_count": 7,
   "metadata": {},
   "outputs": [],
   "source": [
    "default_text = \"could you provide a summary of azure with reference to these documents\""
   ]
  },
  {
   "cell_type": "code",
   "execution_count": 8,
   "metadata": {},
   "outputs": [],
   "source": [
    "# iface = gr.Interface(fn=main, inputs=[gr.Textbox(value=default_text), \"file\"], outputs=gr.Markdown())\n",
    "# iface.launch()"
   ]
  },
  {
   "cell_type": "code",
   "execution_count": 9,
   "metadata": {},
   "outputs": [],
   "source": [
    "def main(query, history, file):\n",
    "    \"\"\"\n",
    "    Wrapper for all functions in the backend that server the gradio ui frontend\n",
    "    \"\"\"\n",
    "\n",
    "    docs = read_pdf(file)\n",
    "\n",
    "    res = vectorize(docs, query, verbose=True)\n",
    "    \n",
    "    yield res"
   ]
  },
  {
   "cell_type": "code",
   "execution_count": 10,
   "metadata": {},
   "outputs": [
    {
     "name": "stdout",
     "output_type": "stream",
     "text": [
      "Running on local URL:  http://127.0.0.1:7860\n",
      "\n",
      "To create a public link, set `share=True` in `launch()`.\n"
     ]
    },
    {
     "data": {
      "text/html": [
       "<div><iframe src=\"http://127.0.0.1:7860/\" width=\"100%\" height=\"500\" allow=\"autoplay; camera; microphone; clipboard-read; clipboard-write;\" frameborder=\"0\" allowfullscreen></iframe></div>"
      ],
      "text/plain": [
       "<IPython.core.display.HTML object>"
      ]
     },
     "metadata": {},
     "output_type": "display_data"
    },
    {
     "data": {
      "text/plain": []
     },
     "execution_count": 10,
     "metadata": {},
     "output_type": "execute_result"
    },
    {
     "name": "stdout",
     "output_type": "stream",
     "text": [
      "\n",
      "\n",
      "\u001b[1m> Entering new RetrievalQA chain...\u001b[0m\n",
      "\n",
      "\u001b[1m> Finished chain.\u001b[0m\n",
      "Quick R eview Quick R eview\n",
      "172\n",
      "{'dimension': 768,\n",
      " 'index_fullness': 0.02,\n",
      " 'namespaces': {'': {'vector_count': 2000}},\n",
      " 'total_vector_count': 2000}\n"
     ]
    }
   ],
   "source": [
    "app = gr.ChatInterface(\n",
    "    fn=main,\n",
    "    additional_inputs=[gr.File()]\n",
    ")\n",
    "app.launch()"
   ]
  },
  {
   "cell_type": "code",
   "execution_count": null,
   "metadata": {},
   "outputs": [],
   "source": []
  }
 ],
 "metadata": {
  "kernelspec": {
   "display_name": "Python 3",
   "language": "python",
   "name": "python3"
  },
  "language_info": {
   "codemirror_mode": {
    "name": "ipython",
    "version": 3
   },
   "file_extension": ".py",
   "mimetype": "text/x-python",
   "name": "python",
   "nbconvert_exporter": "python",
   "pygments_lexer": "ipython3",
   "version": "3.10.4"
  }
 },
 "nbformat": 4,
 "nbformat_minor": 2
}
